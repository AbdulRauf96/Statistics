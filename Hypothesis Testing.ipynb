{
 "cells": [
  {
   "attachments": {},
   "cell_type": "markdown",
   "metadata": {},
   "source": [
    "# Hypothesis Testting"
   ]
  },
  {
   "attachments": {},
   "cell_type": "markdown",
   "metadata": {},
   "source": [
    "I practiced discrete and continous distributions, and we will use them to test hypotheses. Hypothsis testing is a way to test a claim about a population parameter. We will use the following steps to test a hypothesis:\n",
    "\n",
    "1. State the null and alternative hypotheses\n",
    "2. Choose a significance level\n",
    "3. Compute the test statistic\n",
    "4. Make a decision"
   ]
  },
  {
   "attachments": {},
   "cell_type": "markdown",
   "metadata": {},
   "source": [
    "### Import Libraries"
   ]
  },
  {
   "cell_type": "code",
   "execution_count": 1,
   "metadata": {},
   "outputs": [],
   "source": [
    "import numpy as np # to perform numerical operations\n",
    "import pandas as pd # to read and manipulate data\n",
    "import matplotlib.pyplot as plt # to plot data\n",
    "import seaborn as sns # to plot data\n",
    "import os # to read files\n",
    "import sys # to read files\n",
    "dir = os.environ['ALPHA_1'] # to read files\n",
    "sys.path.append(dir) # to read files\n",
    "from pathlib import Path # to read files\n",
    "import pyarrow\n",
    "\n",
    "import scipy.stats as stats # to perform statistical operations\n",
    "from statsmodels.stats.proportion import proportions_ztest # to perform statistical operations\n",
    "from statsmodels.stats.power import TTestIndPower # to determine sample size\n",
    "from scipy.stats import chisquare # to perform statistical operations\n",
    "import pingouin as pg # to perform statistical operations\n",
    "import warnings\n",
    "warnings.filterwarnings('ignore')\n",
    "\n",
    "import basic.basic_functions as bf # to perform basic functions"
   ]
  },
  {
   "cell_type": "code",
   "execution_count": 2,
   "metadata": {},
   "outputs": [
    {
     "name": "stdout",
     "output_type": "stream",
     "text": [
      "Not Running on Colab\n",
      "Base Folder is C:\\Users\\abdul\\OneDrive\\Documents\\MSBA\n",
      "Data Folder is C:\\Users\\abdul\\OneDrive\\Documents\\MSBA\\data_sets\n",
      "Archive Folder is C:\\Users\\abdul\\OneDrive\\Documents\\MSBA\\archive\n",
      "Output Folder is C:\\Users\\abdul\\OneDrive\\Documents\\MSBA\\output\n",
      "The path to the custom functions is C:/Users/abdul/OneDrive/Documents/MSBA/custom_functions\n",
      "The working directory is c:\\Users\\abdul\\OneDrive\\Documents\\MSBA\\notebooks\\Statistics\n"
     ]
    }
   ],
   "source": [
    "# Connecting Folders\n",
    "base_folder,data,archive,output = bf.set_folders()"
   ]
  },
  {
   "attachments": {},
   "cell_type": "markdown",
   "metadata": {},
   "source": [
    "### Load Data"
   ]
  },
  {
   "attachments": {},
   "cell_type": "markdown",
   "metadata": {},
   "source": [
    "Feather files are a fast and efficient way to store data. They are a binary file format for storing data frames. They are useful for storing large data sets that you will use repeatedly. You can read more about them [here](https://blog.rstudio.com/2016/03/29/feather/)."
   ]
  },
  {
   "cell_type": "code",
   "execution_count": 4,
   "metadata": {},
   "outputs": [],
   "source": [
    "late_shipments = pd.read_feather(data/'late_shipments.feather')\n",
    "sample_dem_data = pd.read_feather(data/'dem_votes_potus_12_16.feather')\n",
    "late_shipments = late_shipments[late_shipments['vendor_inco_term'] != 'DDU']"
   ]
  },
  {
   "attachments": {},
   "cell_type": "markdown",
   "metadata": {},
   "source": [
    "## Simple Hypothesis Test"
   ]
  },
  {
   "attachments": {},
   "cell_type": "markdown",
   "metadata": {},
   "source": [
    "As discussed above the steps to test a hypothesis are:\n",
    "\n",
    "1. State the null and alternative hypotheses\n",
    "2. Choose a significance level\n",
    "3. Compute the test statistic\n",
    "4. Make a decision\n",
    "\n",
    "We will start with a simple hypothesis test. Some terms that are important to understand are:\n",
    "\n",
    "* **Null Hypothesis**: The null hypothesis is the hypothesis that we are testing. It is the hypothesis that we believe to be true. The null hypothesis is always a statement about a population parameter. For example, the null hypothesis could be that the mean of a population is equal to a certain value.\n",
    "\n",
    "* **Alternative Hypothesis**: The alternative hypothesis is the hypothesis that we are testing against. It is the hypothesis that we believe to be false. The alternative hypothesis is always a statement about a population parameter. For example, the alternative hypothesis could be that the mean of a population is not equal to a certain value.\n",
    "\n",
    "* **Significance Level**: The significance level is the probability of rejecting the null hypothesis when it is true. The significance level is denoted by $\\alpha$. The significance level is always a value between 0 and 1. The significance level is also called the level of significance.\n",
    "\n",
    "* **Test Statistic**: The test statistic is a statistic that is used to test the null hypothesis. The test statistic is always a statistic that is calculated from the sample data. The test statistic is used to determine whether or not to reject the null hypothesis.\n",
    "\n",
    "* **P-value**: The p-value is the probability of observing a test statistic at least as extreme as the one observed in the sample data, assuming that the null hypothesis is true. The p-value is always a value between 0 and 1. The p-value is used to determine whether or not to reject the null hypothesis.\n",
    "\n",
    "* **Reject the Null Hypothesis**: Rejecting the null hypothesis means that we have enough evidence to believe that the null hypothesis is false. We reject the null hypothesis when the p-value is less than the significance level.\n",
    "\n",
    "* **Fail to Reject the Null Hypothesis**: Failing to reject the null hypothesis means that we do not have enough evidence to believe that the null hypothesis is false. We fail to reject the null hypothesis when the p-value is greater than or equal to the significance level.\n",
    "\n",
    "* **Z-Score**: The z-score is the number of standard deviations that a data point is from the mean. The z-score is always a value between -$\\infty$ and $\\infty$. The z-score is used to determine the p-value."
   ]
  },
  {
   "cell_type": "code",
   "execution_count": 5,
   "metadata": {},
   "outputs": [
    {
     "name": "stdout",
     "output_type": "stream",
     "text": [
      "The z-score is 0.00.\n"
     ]
    }
   ],
   "source": [
    "# Calculate the proportion of late shipments\n",
    "late_prop_samp = len(late_shipments[late_shipments['late'] == 'Yes']) / len(late_shipments)\n",
    "\n",
    "\n",
    "sample = np.random.choice(late_shipments['late'], size = 100, replace = True)\n",
    "# Hypothesize that the proportion is 6%\n",
    "late_prop_hyp = np.mean(sample == 'Yes')\n",
    "# Calculate the standard error\n",
    "std_error = np.std(sample == 'Yes', ddof = 1) # the ddof = 1 is to calculate the standard deviation of the sample\n",
    "\n",
    "# Calculate the z-score\n",
    "z_score = (late_prop_samp - late_prop_hyp) / std_error\n",
    "print(f'The z-score is {z_score:.2f}.')"
   ]
  },
  {
   "cell_type": "markdown",
   "metadata": {},
   "source": [
    "The null hypothesis, $H_0$ , is that the proportion of late shipments is six percent. The alternative hypothesis, $H_A$ , is that the proportion of late shipments is greater than six percent."
   ]
  },
  {
   "cell_type": "code",
   "execution_count": 6,
   "metadata": {},
   "outputs": [
    {
     "name": "stdout",
     "output_type": "stream",
     "text": [
      "The p-value is 0.50.\n"
     ]
    }
   ],
   "source": [
    "p_value = stats.norm.sf(z_score)\n",
    "print(f'The p-value is {p_value:.2f}.')"
   ]
  },
  {
   "attachments": {},
   "cell_type": "markdown",
   "metadata": {},
   "source": [
    "If $p < 0.05$, then we reject the null hypothesis. If $p >= 0.05$, then we fail to reject the null hypothesis. Based on the upper and lower bounds of the confidence interval, we can see that the p-value is greater than 0.05. Therefore, we fail to reject the null hypothesis.\n",
    "\n",
    "Another important thing to be careful of is that the p-value is not the probability that the null hypothesis is true. The p-value is the probability of observing a test statistic at least as extreme as the one observed in the sample data, assuming that the null hypothesis is true.\n",
    "\n",
    "* **Type I Error**: A type I error is the rejection of a true null hypothesis. A type I error is also called a false positive. The probability of a type I error is equal to the significance level.\n",
    "\n",
    "* **Type II Error**: A type II error is the failure to reject a false null hypothesis. A type II error is also called a false negative. The probability of a type II error is equal to $\\beta$."
   ]
  },
  {
   "attachments": {},
   "cell_type": "markdown",
   "metadata": {},
   "source": [
    "## Performing t-tests\n",
    "\n",
    "T-tests are used to test the null hypothesis that the mean of a population is equal to a certain value. The t-test is used when the population standard deviation is unknown. The t-test is also used when the sample size is small. The t-test is also used when the population distribution is not normal.\n",
    "\n",
    "The null hypothesis, $H_0$ , is that the mean of the population is equal to 100. The alternative hypothesis, $H_A$ , is that the mean of the population is not equal to 100."
   ]
  },
  {
   "attachments": {},
   "cell_type": "markdown",
   "metadata": {},
   "source": [
    "## Performing Two Sample t-tests\n",
    "\n",
    "Two sample t-tests are used to test the null hypothesis that the means of two populations are equal. The two sample t-test is used when the population standard deviations are unknown. The two sample t-test is also used when the sample sizes are small. The two sample t-test is also used when the population distributions are not normal."
   ]
  },
  {
   "attachments": {},
   "cell_type": "markdown",
   "metadata": {},
   "source": [
    "The hypothesis test for determining if there is a difference between the means of two populations uses a different type of test statistic to the z-scores. It's called \"t\", and it can be calculated from three values from each sample using this equation.\n",
    "\n",
    "\n",
    "$$t = \\dfrac{(\\bar{x}_{\\text{child}} - \\bar{x}_{\\text{adult}})}{\\sqrt{\\dfrac{s_{\\text{child}}^2}{n_{\\text{child}}} + \\dfrac{s_{\\text{adult}}^2}{n_{\\text{adult}}}}}$$\n",
    "\n",
    "\n",
    "While trying to determine why some shipments are late, you may wonder if the weight of the shipments that were on time is less than the weight of the shipments that were late. The late_shipments dataset has been split into a \"yes\" group, where late == \"Yes\" and a \"no\" group where late == \"No\". The weight of the shipment is given in the weight_kilograms variable."
   ]
  },
  {
   "cell_type": "code",
   "execution_count": 7,
   "metadata": {},
   "outputs": [],
   "source": [
    "# Calculate the mean weight of late shipments and on-time shipments\n",
    "xbar_no = np.mean(late_shipments[late_shipments['late'] == 'No']['weight_kilograms'])\n",
    "xbar_yes = np.mean(late_shipments[late_shipments['late'] == 'Yes']['weight_kilograms'])\n",
    "\n",
    "# Calculate the standard error \n",
    "s_no = np.std(late_shipments[late_shipments['late'] == 'No']['weight_kilograms'], ddof = 1)\n",
    "s_yes = np.std(late_shipments[late_shipments['late'] == 'Yes']['weight_kilograms'], ddof = 1)\n",
    "n_no = len(late_shipments[late_shipments['late'] == 'No']['weight_kilograms'])\n",
    "n_yes = len(late_shipments[late_shipments['late'] == 'Yes']['weight_kilograms'])"
   ]
  },
  {
   "attachments": {},
   "cell_type": "markdown",
   "metadata": {},
   "source": [
    "$$H_0: \\mu_{\\text{no}} = \\mu_{\\text{yes}}$$\n",
    "$$H_A: \\mu_{\\text{no}} < \\mu_{\\text{yes}}$$"
   ]
  },
  {
   "cell_type": "code",
   "execution_count": 8,
   "metadata": {},
   "outputs": [
    {
     "name": "stdout",
     "output_type": "stream",
     "text": [
      "The test statistic is -2.39.\n",
      "The p-value is 0.01.\n",
      "We reject the null hypothesis that the mean weight of late shipments is the same as the mean weight of on-time shipments.\n",
      "We accept the alternative hypothesis that the mean weight of late shipments is greater than the mean weight of on-time shipments.\n"
     ]
    }
   ],
   "source": [
    "# Calculate the numerator of the test statistic\n",
    "numerator = (xbar_no - xbar_yes)\n",
    "# Calculate the denominator of the test statistic\n",
    "denominator = np.sqrt(((s_yes**2)/n_yes) + ((s_no**2)/n_no))\n",
    "# Calculate the test statistic\n",
    "t_stat = numerator / denominator\n",
    "# Print the test statistic\n",
    "print(f'The test statistic is {t_stat:.2f}.')\n",
    "# Calculate the p-value\n",
    "p_value = stats.t.cdf(t_stat, df = n_no + n_yes - 2) \n",
    "# Print the p-value\n",
    "print(f'The p-value is {p_value:.2f}.')\n",
    "print(f'We reject the null hypothesis that the mean weight of late shipments is the same as the mean weight of on-time shipments.')\n",
    "print(f'We accept the alternative hypothesis that the mean weight of late shipments is greater than the mean weight of on-time shipments.')"
   ]
  },
  {
   "attachments": {},
   "cell_type": "markdown",
   "metadata": {},
   "source": [
    "## Performing Paired t-tests\n",
    "\n",
    "A paired t-test is a statistical test used to determine whether there is a significant difference between the means of two related samples. This test is particularly useful when comparing two samples that are paired or matched, meaning that the same subjects were included in both samples.\n",
    "\n",
    "For example, suppose you want to compare the effectiveness of two different treatments for a medical condition. You could select a group of patients and administer Treatment A to half of them and Treatment B to the other half. Then, you would measure the results of both treatments and compare them using a paired t-test.\n",
    "\n",
    "The paired t-test works by calculating the difference between the two samples for each paired observation, and then calculating the mean and standard deviation of these differences. The t-test statistic is then calculated by dividing the mean difference by the standard deviation of the differences, which gives an estimate of how many standard deviations the mean difference is away from zero.\n",
    "\n",
    "If the t-test statistic is larger than the critical value of t for the chosen significance level (usually 0.05), then the null hypothesis that there is no significant difference between the two means is rejected. In other words, it can be concluded that the means of the two samples are significantly different.\n",
    "\n",
    "In summary, a paired t-test is a useful statistical tool for comparing the means of two related samples, and it can help to determine whether a treatment or intervention is effective.\n",
    "\n",
    "Here, you'll look at the proportion of county-level votes for the Democratic candidate in 2012 and 2016, `sample_dem_data`. Since the counties are the same in both years, these samples are paired. The columns containing the samples are `dem_percent_12` and `dem_percent_16`."
   ]
  },
  {
   "cell_type": "code",
   "execution_count": 9,
   "metadata": {},
   "outputs": [
    {
     "data": {
      "image/png": "[encoded data removed]",
      "text/plain": [
       "<Figure size 640x480 with 1 Axes>"
      ]
     },
     "metadata": {},
     "output_type": "display_data"
    }
   ],
   "source": [
    "# Calculate the differences from 2012 to 2016\n",
    "sample_dem_data['diff'] = sample_dem_data['dem_percent_12'] - sample_dem_data['dem_percent_16']\n",
    "# Find the mean of the diff column\n",
    "xbar_diff = sample_dem_data['diff'].mean()\n",
    "# Find the standard deviation of the diff column\n",
    "s_diff = sample_dem_data['diff'].std(ddof = 1)\n",
    "# Plot a histogram of diff with 20 bins\n",
    "sample_dem_data['diff'].hist(bins=20)\n",
    "plt.show()"
   ]
  },
  {
   "attachments": {},
   "cell_type": "markdown",
   "metadata": {},
   "source": [
    "$$H_0: \\mu_{\\text{2012}} = \\mu_{\\text{2016}}$$\n",
    "$$H_A: \\mu_{\\text{2012}}  \\not= \\mu_{\\text{2016}}$$"
   ]
  },
  {
   "cell_type": "code",
   "execution_count": 10,
   "metadata": {},
   "outputs": [
    {
     "name": "stdout",
     "output_type": "stream",
     "text": [
      "The t-statistic is 30.30 and the p-value is 0.00.\n",
      "We reject the null hypothesis that the mean difference in the percentage of votes for the Democratic candidate between 2012 and 2016 is 0.\n"
     ]
    }
   ],
   "source": [
    "t_statistic, p_value = stats.ttest_rel(sample_dem_data['dem_percent_12'], sample_dem_data['dem_percent_16'])\n",
    "print(f'The t-statistic is {t_statistic:.2f} and the p-value is {p_value:.2f}.')\n",
    "print(f'We reject the null hypothesis that the mean difference in the percentage of votes for the Democratic candidate between 2012 and 2016 is 0.')"
   ]
  },
  {
   "cell_type": "code",
   "execution_count": 11,
   "metadata": {},
   "outputs": [
    {
     "data": {
      "text/html": [
       "<div>\n",
       "<style scoped>\n",
       "    .dataframe tbody tr th:only-of-type {\n",
       "        vertical-align: middle;\n",
       "    }\n",
       "\n",
       "    .dataframe tbody tr th {\n",
       "        vertical-align: top;\n",
       "    }\n",
       "\n",
       "    .dataframe thead th {\n",
       "        text-align: right;\n",
       "    }\n",
       "</style>\n",
       "<table border=\"1\" class=\"dataframe\">\n",
       "  <thead>\n",
       "    <tr style=\"text-align: right;\">\n",
       "      <th></th>\n",
       "      <th>T</th>\n",
       "      <th>dof</th>\n",
       "      <th>alternative</th>\n",
       "      <th>p-val</th>\n",
       "      <th>CI95%</th>\n",
       "      <th>cohen-d</th>\n",
       "      <th>BF10</th>\n",
       "      <th>power</th>\n",
       "    </tr>\n",
       "  </thead>\n",
       "  <tbody>\n",
       "    <tr>\n",
       "      <th>T-test</th>\n",
       "      <td>30.298384</td>\n",
       "      <td>499</td>\n",
       "      <td>two-sided</td>\n",
       "      <td>3.600634e-115</td>\n",
       "      <td>[6.39, 7.27]</td>\n",
       "      <td>1.354985</td>\n",
       "      <td>2.246e+111</td>\n",
       "      <td>1.0</td>\n",
       "    </tr>\n",
       "  </tbody>\n",
       "</table>\n",
       "</div>"
      ],
      "text/plain": [
       "                T  dof alternative          p-val         CI95%   cohen-d  \\\n",
       "T-test  30.298384  499   two-sided  3.600634e-115  [6.39, 7.27]  1.354985   \n",
       "\n",
       "              BF10  power  \n",
       "T-test  2.246e+111    1.0  "
      ]
     },
     "execution_count": 11,
     "metadata": {},
     "output_type": "execute_result"
    }
   ],
   "source": [
    "# Conduct a t-test on diff\n",
    "test_results = pg.ttest(x=sample_dem_data['diff'],y=0,alternative='two-sided')\n",
    "# Print the test results\n",
    "test_results"
   ]
  },
  {
   "cell_type": "code",
   "execution_count": 12,
   "metadata": {},
   "outputs": [
    {
     "data": {
      "text/html": [
       "<div>\n",
       "<style scoped>\n",
       "    .dataframe tbody tr th:only-of-type {\n",
       "        vertical-align: middle;\n",
       "    }\n",
       "\n",
       "    .dataframe tbody tr th {\n",
       "        vertical-align: top;\n",
       "    }\n",
       "\n",
       "    .dataframe thead th {\n",
       "        text-align: right;\n",
       "    }\n",
       "</style>\n",
       "<table border=\"1\" class=\"dataframe\">\n",
       "  <thead>\n",
       "    <tr style=\"text-align: right;\">\n",
       "      <th></th>\n",
       "      <th>T</th>\n",
       "      <th>dof</th>\n",
       "      <th>alternative</th>\n",
       "      <th>p-val</th>\n",
       "      <th>CI95%</th>\n",
       "      <th>cohen-d</th>\n",
       "      <th>BF10</th>\n",
       "      <th>power</th>\n",
       "    </tr>\n",
       "  </thead>\n",
       "  <tbody>\n",
       "    <tr>\n",
       "      <th>T-test</th>\n",
       "      <td>30.298384</td>\n",
       "      <td>499</td>\n",
       "      <td>two-sided</td>\n",
       "      <td>3.600634e-115</td>\n",
       "      <td>[6.39, 7.27]</td>\n",
       "      <td>0.454202</td>\n",
       "      <td>2.246e+111</td>\n",
       "      <td>1.0</td>\n",
       "    </tr>\n",
       "  </tbody>\n",
       "</table>\n",
       "</div>"
      ],
      "text/plain": [
       "                T  dof alternative          p-val         CI95%   cohen-d  \\\n",
       "T-test  30.298384  499   two-sided  3.600634e-115  [6.39, 7.27]  0.454202   \n",
       "\n",
       "              BF10  power  \n",
       "T-test  2.246e+111    1.0  "
      ]
     },
     "execution_count": 12,
     "metadata": {},
     "output_type": "execute_result"
    }
   ],
   "source": [
    "# Conduct a paired t-test on dem_percent_12 and dem_percent_16\n",
    "paired_test_results = pg.ttest(x=sample_dem_data['dem_percent_12'], \n",
    "                              y=sample_dem_data['dem_percent_16'],\n",
    "                              paired=True\n",
    "                              ,alternative=\"two-sided\")\n",
    "# Print the test results\n",
    "paired_test_results"
   ]
  },
  {
   "attachments": {},
   "cell_type": "markdown",
   "metadata": {},
   "source": [
    "The p-value from the unpaired test is greater than than the p-value from the paired test."
   ]
  },
  {
   "attachments": {},
   "cell_type": "markdown",
   "metadata": {},
   "source": [
    "## ANOVA Tests\n",
    "\n",
    "ANOVA stands for Analysis of Variance and is a statistical test used to analyze whether there is a significant difference between the means of two or more groups. It compares the variance between groups to the variance within groups to determine if the differences are statistically significant. The ANOVA test assumes that the data is normally distributed and that the variances of the groups are equal. There are several types of ANOVA tests, including one-way ANOVA, two-way ANOVA, and repeated measures ANOVA.\n",
    "\n",
    "The one-way ANOVA is used when there is one independent variable with three or more levels, while the two-way ANOVA is used when there are two independent variables. The repeated measures ANOVA is used when the same group of subjects is measured multiple times.\n",
    "\n",
    "The output of an ANOVA test includes the F-statistic, which measures the ratio of the variance between groups to the variance within groups. A significant F-value indicates that there is a significant difference between the means of the groups.\n",
    "\n",
    "Post-hoc tests can be performed after an ANOVA test to determine which groups are significantly different from each other. Examples of post-hoc tests include Tukey's HSD, Bonferroni correction, and Scheffé's method.\n",
    "\n",
    "ANOVA is a powerful tool for analyzing data with multiple groups, but it is important to carefully interpret the results and ensure that the assumptions of the test are met."
   ]
  },
  {
   "cell_type": "code",
   "execution_count": 13,
   "metadata": {},
   "outputs": [
    {
     "data": {
      "image/png": "[encoded data removed]",
      "text/plain": [
       "<Figure size 640x480 with 1 Axes>"
      ]
     },
     "metadata": {},
     "output_type": "display_data"
    }
   ],
   "source": [
    "# Calculate the mean pack_price for each shipment_mode\n",
    "xbar_pack_by_mode = late_shipments.groupby(\"shipment_mode\")['pack_price'].mean()\n",
    "\n",
    "# Calculate the standard deviation of the pack_price for each shipment_mode\n",
    "s_pack_by_mode = late_shipments.groupby(\"shipment_mode\")['pack_price'].std()\n",
    "\n",
    "# Boxplot of shipment_mode vs. pack_price\n",
    "sns.boxplot(x='pack_price',y='shipment_mode',data=late_shipments)\n",
    "plt.show()"
   ]
  },
  {
   "attachments": {},
   "cell_type": "markdown",
   "metadata": {},
   "source": [
    "$H_0$: Pack prices for every category of shipment mode are the same.</br>\n",
    "$H_A$: Pack prices for some categories of shipment mode are different.</br>\n",
    "Using a significance level of 0.1."
   ]
  },
  {
   "cell_type": "code",
   "execution_count": 14,
   "metadata": {},
   "outputs": [
    {
     "data": {
      "text/html": [
       "<div>\n",
       "<style scoped>\n",
       "    .dataframe tbody tr th:only-of-type {\n",
       "        vertical-align: middle;\n",
       "    }\n",
       "\n",
       "    .dataframe tbody tr th {\n",
       "        vertical-align: top;\n",
       "    }\n",
       "\n",
       "    .dataframe thead th {\n",
       "        text-align: right;\n",
       "    }\n",
       "</style>\n",
       "<table border=\"1\" class=\"dataframe\">\n",
       "  <thead>\n",
       "    <tr style=\"text-align: right;\">\n",
       "      <th></th>\n",
       "      <th>Source</th>\n",
       "      <th>ddof1</th>\n",
       "      <th>ddof2</th>\n",
       "      <th>F</th>\n",
       "      <th>p-unc</th>\n",
       "      <th>np2</th>\n",
       "    </tr>\n",
       "  </thead>\n",
       "  <tbody>\n",
       "    <tr>\n",
       "      <th>0</th>\n",
       "      <td>shipment_mode</td>\n",
       "      <td>2</td>\n",
       "      <td>996</td>\n",
       "      <td>21.831329</td>\n",
       "      <td>5.256696e-10</td>\n",
       "      <td>0.041997</td>\n",
       "    </tr>\n",
       "  </tbody>\n",
       "</table>\n",
       "</div>"
      ],
      "text/plain": [
       "          Source  ddof1  ddof2          F         p-unc       np2\n",
       "0  shipment_mode      2    996  21.831329  5.256696e-10  0.041997"
      ]
     },
     "metadata": {},
     "output_type": "display_data"
    },
    {
     "name": "stdout",
     "output_type": "stream",
     "text": [
      "We reject the null hypothesis that the mean pack_price is the same for all shipment modes.\n"
     ]
    }
   ],
   "source": [
    "# Run an ANOVA for pack_price across shipment_mode\n",
    "anova_results = pg.anova(data=late_shipments,dv='pack_price',between='shipment_mode')\n",
    "# Print anova_results\n",
    "display(anova_results)\n",
    "print(f'We reject the null hypothesis that the mean pack_price is the same for all shipment modes.')"
   ]
  },
  {
   "cell_type": "code",
   "execution_count": 15,
   "metadata": {},
   "outputs": [
    {
     "data": {
      "text/html": [
       "<div>\n",
       "<style scoped>\n",
       "    .dataframe tbody tr th:only-of-type {\n",
       "        vertical-align: middle;\n",
       "    }\n",
       "\n",
       "    .dataframe tbody tr th {\n",
       "        vertical-align: top;\n",
       "    }\n",
       "\n",
       "    .dataframe thead th {\n",
       "        text-align: right;\n",
       "    }\n",
       "</style>\n",
       "<table border=\"1\" class=\"dataframe\">\n",
       "  <thead>\n",
       "    <tr style=\"text-align: right;\">\n",
       "      <th></th>\n",
       "      <th>Contrast</th>\n",
       "      <th>A</th>\n",
       "      <th>B</th>\n",
       "      <th>Paired</th>\n",
       "      <th>Parametric</th>\n",
       "      <th>T</th>\n",
       "      <th>dof</th>\n",
       "      <th>alternative</th>\n",
       "      <th>p-unc</th>\n",
       "      <th>BF10</th>\n",
       "      <th>hedges</th>\n",
       "    </tr>\n",
       "  </thead>\n",
       "  <tbody>\n",
       "    <tr>\n",
       "      <th>0</th>\n",
       "      <td>shipment_mode</td>\n",
       "      <td>Air</td>\n",
       "      <td>Air Charter</td>\n",
       "      <td>False</td>\n",
       "      <td>True</td>\n",
       "      <td>21.153462</td>\n",
       "      <td>601.222302</td>\n",
       "      <td>two-sided</td>\n",
       "      <td>1.160890e-74</td>\n",
       "      <td>3.878e+76</td>\n",
       "      <td>0.726051</td>\n",
       "    </tr>\n",
       "    <tr>\n",
       "      <th>1</th>\n",
       "      <td>shipment_mode</td>\n",
       "      <td>Air</td>\n",
       "      <td>Ocean</td>\n",
       "      <td>False</td>\n",
       "      <td>True</td>\n",
       "      <td>19.312655</td>\n",
       "      <td>986.136131</td>\n",
       "      <td>two-sided</td>\n",
       "      <td>9.786259e-71</td>\n",
       "      <td>7.99e+66</td>\n",
       "      <td>0.710612</td>\n",
       "    </tr>\n",
       "    <tr>\n",
       "      <th>2</th>\n",
       "      <td>shipment_mode</td>\n",
       "      <td>Air Charter</td>\n",
       "      <td>Ocean</td>\n",
       "      <td>False</td>\n",
       "      <td>True</td>\n",
       "      <td>-3.170654</td>\n",
       "      <td>35.615026</td>\n",
       "      <td>two-sided</td>\n",
       "      <td>3.123012e-03</td>\n",
       "      <td>15.277</td>\n",
       "      <td>-0.423775</td>\n",
       "    </tr>\n",
       "  </tbody>\n",
       "</table>\n",
       "</div>"
      ],
      "text/plain": [
       "        Contrast            A            B  Paired  Parametric          T  \\\n",
       "0  shipment_mode          Air  Air Charter   False        True  21.153462   \n",
       "1  shipment_mode          Air        Ocean   False        True  19.312655   \n",
       "2  shipment_mode  Air Charter        Ocean   False        True  -3.170654   \n",
       "\n",
       "          dof alternative         p-unc       BF10    hedges  \n",
       "0  601.222302   two-sided  1.160890e-74  3.878e+76  0.726051  \n",
       "1  986.136131   two-sided  9.786259e-71   7.99e+66  0.710612  \n",
       "2   35.615026   two-sided  3.123012e-03     15.277 -0.423775  "
      ]
     },
     "metadata": {},
     "output_type": "display_data"
    },
    {
     "name": "stdout",
     "output_type": "stream",
     "text": [
      "We reject the null hypothesis that the mean pack_price is the same for all shipment modes.\n"
     ]
    }
   ],
   "source": [
    "# Perform a pairwise t-test on pack price, grouped by shipment mode\n",
    "pairwise_results = pg.pairwise_tests(data=late_shipments,dv='pack_price',between='shipment_mode')\n",
    "# Print pairwise_results\n",
    "display(pairwise_results)\n",
    "print(f'We reject the null hypothesis that the mean pack_price is the same for all shipment modes.')"
   ]
  },
  {
   "cell_type": "code",
   "execution_count": 16,
   "metadata": {},
   "outputs": [
    {
     "data": {
      "text/html": [
       "<div>\n",
       "<style scoped>\n",
       "    .dataframe tbody tr th:only-of-type {\n",
       "        vertical-align: middle;\n",
       "    }\n",
       "\n",
       "    .dataframe tbody tr th {\n",
       "        vertical-align: top;\n",
       "    }\n",
       "\n",
       "    .dataframe thead th {\n",
       "        text-align: right;\n",
       "    }\n",
       "</style>\n",
       "<table border=\"1\" class=\"dataframe\">\n",
       "  <thead>\n",
       "    <tr style=\"text-align: right;\">\n",
       "      <th></th>\n",
       "      <th>Contrast</th>\n",
       "      <th>A</th>\n",
       "      <th>B</th>\n",
       "      <th>Paired</th>\n",
       "      <th>Parametric</th>\n",
       "      <th>T</th>\n",
       "      <th>dof</th>\n",
       "      <th>alternative</th>\n",
       "      <th>p-unc</th>\n",
       "      <th>p-corr</th>\n",
       "      <th>p-adjust</th>\n",
       "      <th>BF10</th>\n",
       "      <th>hedges</th>\n",
       "    </tr>\n",
       "  </thead>\n",
       "  <tbody>\n",
       "    <tr>\n",
       "      <th>0</th>\n",
       "      <td>shipment_mode</td>\n",
       "      <td>Air</td>\n",
       "      <td>Air Charter</td>\n",
       "      <td>False</td>\n",
       "      <td>True</td>\n",
       "      <td>21.153462</td>\n",
       "      <td>601.222302</td>\n",
       "      <td>two-sided</td>\n",
       "      <td>1.160890e-74</td>\n",
       "      <td>3.482670e-74</td>\n",
       "      <td>bonf</td>\n",
       "      <td>3.878e+76</td>\n",
       "      <td>0.726051</td>\n",
       "    </tr>\n",
       "    <tr>\n",
       "      <th>1</th>\n",
       "      <td>shipment_mode</td>\n",
       "      <td>Air</td>\n",
       "      <td>Ocean</td>\n",
       "      <td>False</td>\n",
       "      <td>True</td>\n",
       "      <td>19.312655</td>\n",
       "      <td>986.136131</td>\n",
       "      <td>two-sided</td>\n",
       "      <td>9.786259e-71</td>\n",
       "      <td>2.935878e-70</td>\n",
       "      <td>bonf</td>\n",
       "      <td>7.99e+66</td>\n",
       "      <td>0.710612</td>\n",
       "    </tr>\n",
       "    <tr>\n",
       "      <th>2</th>\n",
       "      <td>shipment_mode</td>\n",
       "      <td>Air Charter</td>\n",
       "      <td>Ocean</td>\n",
       "      <td>False</td>\n",
       "      <td>True</td>\n",
       "      <td>-3.170654</td>\n",
       "      <td>35.615026</td>\n",
       "      <td>two-sided</td>\n",
       "      <td>3.123012e-03</td>\n",
       "      <td>9.369037e-03</td>\n",
       "      <td>bonf</td>\n",
       "      <td>15.277</td>\n",
       "      <td>-0.423775</td>\n",
       "    </tr>\n",
       "  </tbody>\n",
       "</table>\n",
       "</div>"
      ],
      "text/plain": [
       "        Contrast            A            B  Paired  Parametric          T  \\\n",
       "0  shipment_mode          Air  Air Charter   False        True  21.153462   \n",
       "1  shipment_mode          Air        Ocean   False        True  19.312655   \n",
       "2  shipment_mode  Air Charter        Ocean   False        True  -3.170654   \n",
       "\n",
       "          dof alternative         p-unc        p-corr p-adjust       BF10  \\\n",
       "0  601.222302   two-sided  1.160890e-74  3.482670e-74     bonf  3.878e+76   \n",
       "1  986.136131   two-sided  9.786259e-71  2.935878e-70     bonf   7.99e+66   \n",
       "2   35.615026   two-sided  3.123012e-03  9.369037e-03     bonf     15.277   \n",
       "\n",
       "     hedges  \n",
       "0  0.726051  \n",
       "1  0.710612  \n",
       "2 -0.423775  "
      ]
     },
     "metadata": {},
     "output_type": "display_data"
    },
    {
     "name": "stdout",
     "output_type": "stream",
     "text": [
      "Using the Bonferroni correction results and assuming a significance level of 0.1, we reject the null hypothesis that the mean pack_price is the same for all shipment modes.\n"
     ]
    }
   ],
   "source": [
    "# Modify the pairwise t-tests to use Bonferroni p-value adjustment\n",
    "pairwise_results = pg.pairwise_tests(data=late_shipments, \n",
    "                                            dv=\"pack_price\",\n",
    "                                            between=\"shipment_mode\",\n",
    "                                            padjust=\"bonf\")\n",
    "# Print pairwise_results\n",
    "display(pairwise_results)\n",
    "print(f'Using the Bonferroni correction results and assuming a significance level of 0.1, we reject the null hypothesis that the mean pack_price is the same for all shipment modes.')"
   ]
  },
  {
   "attachments": {},
   "cell_type": "markdown",
   "metadata": {},
   "source": [
    "## One Sample Proportion Test\n",
    "\n",
    "The one sample proportion test is used to test the null hypothesis that the proportion of successes in a population is equal to a certain value. The one sample proportion test is used when the population distribution is binomial."
   ]
  },
  {
   "attachments": {},
   "cell_type": "markdown",
   "metadata": {},
   "source": [
    "In the first question, we calculated a p-value for a test hypothesizing that the proportion of late shipments was greater than 6%. We used a bootstrap distribution to estimate the standard error of the statistic. An alternative is to use an equation for the standard error based on the sample proportion, hypothesized proportion, and sample size.\n",
    "\n",
    "$$z = \\dfrac{\\hat{p} - p_{0}}{\\sqrt{\\dfrac{p_{0}*(1-p_{0})}{n}}}$$\n",
    "where $\\hat{p}$ is the sample proportion, $p_{0}$ is the hypothesized proportion, and $n$ is the sample size.\n",
    "\n",
    "We'll revisit the p-value using this simpler calculation."
   ]
  },
  {
   "cell_type": "code",
   "execution_count": 17,
   "metadata": {},
   "outputs": [
    {
     "name": "stdout",
     "output_type": "stream",
     "text": [
      "0.44384969651518114\n"
     ]
    }
   ],
   "source": [
    "# Hypothesize that the proportion of late shipments is 6%\n",
    "p_0 = 0.06\n",
    "# Calculate the sample proportion of late shipments\n",
    "p_hat = (late_shipments['late'] == \"Yes\").mean()\n",
    "# Calculate the sample size\n",
    "n = len(late_shipments)\n",
    "# Calculate the numerator and denominator of the test statistic\n",
    "numerator = p_hat - p_0\n",
    "denominator = np.sqrt(p_0 * (1 - p_0) / n)\n",
    "# Calculate the test statistic\n",
    "z_score = numerator / denominator\n",
    "# Calculate the p-value from the z-score\n",
    "p_value = 1 - stats.norm.cdf(z_score)\n",
    "# Print the p-value\n",
    "print(p_value)"
   ]
  },
  {
   "attachments": {},
   "cell_type": "markdown",
   "metadata": {},
   "source": [
    "## Two sample proportion test\n",
    "\n",
    "The two sample proportion test is used to test the null hypothesis that the proportion of successes in two populations are equal. The two sample proportion test is used when the population distributions are binomial."
   ]
  },
  {
   "attachments": {},
   "cell_type": "markdown",
   "metadata": {},
   "source": [
    "We may wonder if the amount paid for freight affects whether or not the shipment was late. In the late_shipments dataset, whether or not the shipment was late is stored in the late column. Freight costs are stored in the freight_cost_group column, and the categories are \"expensive\" and \"reasonable\".\n",
    "\n",
    "The hypotheses to test, with \"late\" corresponding to the proportion of late shipments for that group, are\n",
    "\n",
    "$$H_0: p_{\\text{expensive}} = p_{\\text{reasonable}}$$ \n",
    "$$H_0: p_{\\text{expensive}} - p_{\\text{reasonable}} = 0$$\n",
    "\n",
    "$$H_A: p_{\\text{expensive}} > p_{\\text{reasonable}}$$\n",
    "$$H_A: p_{\\text{expensive}} - p_{\\text{reasonable}} > 0$$\n",
    "\n",
    "We'll first create variables `p_hats` and `ns`"
   ]
  },
  {
   "cell_type": "code",
   "execution_count": 18,
   "metadata": {},
   "outputs": [],
   "source": [
    "# Group the late_shipments DataFrame by the freight_cost_groups column.\n",
    "# Count the number of occurrences of each value in the late column,\n",
    "# and normalize the counts by the total number of counts.\n",
    "# Store the result in the p_hats Series.\n",
    "p_hats = late_shipments.groupby('freight_cost_groups')['late'].value_counts(normalize=True)\n",
    "p_hats = p_hats.unstack()\n",
    "p_hats = p_hats.iloc[:,1]\n",
    "# # Calculate the sample size for each group\n",
    "ns = late_shipments.groupby('freight_cost_groups')['late'].count()"
   ]
  },
  {
   "attachments": {},
   "cell_type": "markdown",
   "metadata": {},
   "source": [
    "#### Manual Calculation"
   ]
  },
  {
   "cell_type": "code",
   "execution_count": 19,
   "metadata": {},
   "outputs": [
    {
     "name": "stdout",
     "output_type": "stream",
     "text": [
      "0.00178197741124142\n",
      "This tiny p-value leads us to suspect there is a larger proportion of late shipments\n",
      "for expensive freight compared to reasonable freight.\n"
     ]
    }
   ],
   "source": [
    "# Calculate the pooled estimate of the population proportion\n",
    "p_hat = (p_hats[\"reasonable\"] * ns[\"reasonable\"] + p_hats[\"expensive\"] * ns[\"expensive\"]) / (ns[\"reasonable\"] + ns[\"expensive\"])\n",
    "\n",
    "# Calculate p_hat one minus p_hat\n",
    "p_hat_times_not_p_hat = p_hat * (1 - p_hat)\n",
    "\n",
    "# Divide this by each of the sample sizes and then sum\n",
    "p_hat_times_not_p_hat_over_ns = p_hat_times_not_p_hat / ns[\"expensive\"] + p_hat_times_not_p_hat / ns[\"reasonable\"]\n",
    "\n",
    "# Calculate the standard error\n",
    "std_error = np.sqrt(p_hat_times_not_p_hat_over_ns)\n",
    "\n",
    "# Calculate the z-score\n",
    "z_score = (p_hats[\"expensive\"] - p_hats[\"reasonable\"]) / std_error\n",
    "\n",
    "# Calculate the p-value from the z-score\n",
    "p_value = 1 - stats.norm.cdf(z_score)\n",
    "\n",
    "# Print p_value\n",
    "print(p_value)\n",
    "print(f'This tiny p-value leads us to suspect there is a larger proportion of late shipments\\nfor expensive freight compared to reasonable freight.')"
   ]
  },
  {
   "attachments": {},
   "cell_type": "markdown",
   "metadata": {},
   "source": [
    "#### Using proportions_ztest"
   ]
  },
  {
   "cell_type": "code",
   "execution_count": 20,
   "metadata": {},
   "outputs": [
    {
     "name": "stdout",
     "output_type": "stream",
     "text": [
      "2.922648567784529 0.001735340002359578\n"
     ]
    }
   ],
   "source": [
    "# Count the late column values for each freight_cost_group\n",
    "late_by_freight_cost_group = late_shipments.groupby(\"freight_cost_groups\")['late'].value_counts()\n",
    "\n",
    "# Create an array of the \"Yes\" counts for each freight_cost_group\n",
    "success_counts = np.array([42, 16])\n",
    "\n",
    "# Create an array of the total number of rows in each freight_cost_group\n",
    "n = np.array([31 + 500, 16 + 439])\n",
    "\n",
    "# Run a z-test on the two proportions\n",
    "stat, p_value = proportions_ztest(count=success_counts, nobs=n,\n",
    "                                  alternative=\"larger\")\n",
    "\n",
    "# Print the results\n",
    "print(stat, p_value)"
   ]
  },
  {
   "attachments": {},
   "cell_type": "markdown",
   "metadata": {},
   "source": [
    "## Chi-Square Tests of Independence\n",
    "\n",
    "The chi-square test of independence is used to test the null hypothesis that the categorical variables are independent. The chi-square test of independence is used when the population distribution is multinomial.\n",
    "\n",
    "The chi-square independence test compares proportions of successes of one categorical variable across the categories of another categorical variable. Trade deals often use a form of business shorthand in order to specify the exact details of their contract. These are International Chamber of Commerce (ICC) international commercial terms, or incoterms for short.\n",
    "\n",
    "The late_shipments dataset includes a vendor_inco_term that describes the incoterms that applied to a given shipment. The choices are:\n",
    "\n",
    "* EXW: \"Ex works\". The buyer pays for transportation of the goods.\n",
    "* CIP: \"Carriage and insurance paid to\". The seller pays for freight and insurance until the goods board a ship.\n",
    "* DDP: \"Delivered duty paid\". The seller pays for transportation of the goods until they reach a destination port.\n",
    "* FCA: \"Free carrier\". The seller pays for transportation of the goods.\n",
    "\n",
    "Perhaps the incoterms affect whether or not the freight costs are expensive. Test these hypotheses with a significance level of 0.01.\n",
    "\n",
    "$H_0$: vendor_inco_term and freight_cost_group are independent.\n",
    "\n",
    "$H_A$: vendor_inco_term and freight_cost_group are associated."
   ]
  },
  {
   "cell_type": "code",
   "execution_count": 21,
   "metadata": {},
   "outputs": [
    {
     "data": {
      "image/png": "[encoded data removed]",
      "text/plain": [
       "<Figure size 640x480 with 1 Axes>"
      ]
     },
     "metadata": {},
     "output_type": "display_data"
    }
   ],
   "source": [
    "# Proportion of freight_cost_group grouped by vendor_inco_term\n",
    "props = late_shipments.groupby('vendor_inco_term')['freight_cost_groups'].value_counts(normalize=True)\n",
    "# Convert props to wide format\n",
    "wide_props = props.unstack()\n",
    "# Proportional stacked bar plot of freight_cost_group vs. vendor_inco_term\n",
    "wide_props.plot(kind='bar', stacked=True)\n",
    "plt.show()"
   ]
  },
  {
   "cell_type": "code",
   "execution_count": 22,
   "metadata": {},
   "outputs": [
    {
     "name": "stdout",
     "output_type": "stream",
     "text": [
      "      test  lambda     chi2  dof          pval    cramer     power\n",
      "0  pearson     1.0  33.6426  3.0  2.357026e-07  0.183511  0.999424\n"
     ]
    }
   ],
   "source": [
    "# Determine if freight_cost_group and vendor_inco_term are independent\n",
    "expected, observed, stats = pg.chi2_independence(data=late_shipments,x='vendor_inco_term', y='freight_cost_groups')\n",
    "# Print results\n",
    "print(stats[stats['test'] == 'pearson']) "
   ]
  },
  {
   "attachments": {},
   "cell_type": "markdown",
   "metadata": {},
   "source": [
    "## Chi-square goodness of fit tests\n",
    "\n",
    "The chi-square goodness of fit test is a statistical test used to determine whether an observed frequency distribution differs from a theoretical distribution. The test compares the observed frequencies with the expected frequencies, assuming that the two are equal. The chi-square statistic measures the degree of discrepancy between the observed and expected frequencies, and the p-value indicates the probability of obtaining a chi-square statistic as extreme or more extreme than the observed value, assuming that the null hypothesis is true.\n",
    "\n",
    "The test can be used for any type of data that can be classified into categories, such as nominal or ordinal data. It is often used in biology, social sciences, and business to determine whether an observed distribution fits a theoretical model.\n",
    "\n",
    "To conduct a chi-square goodness of fit test, the following steps are typically followed:\n",
    "\n",
    "* Formulate the null hypothesis (H0) and the alternative hypothesis (Ha).\n",
    "* Choose a level of significance (alpha).\n",
    "* Collect data and organize it into categories.\n",
    "* Calculate the expected frequencies for each category based on the theoretical distribution.\n",
    "* Calculate the chi-square statistic by summing the squared differences between the observed and expected frequencies divided by the expected frequencies for each category.\n",
    "* Determine the degrees of freedom, which is the number of categories minus one.\n",
    "* Find the p-value associated with the chi-square statistic and degrees of freedom using a chi-square distribution table or a statistical software program.\n",
    "* Compare the p-value to the level of significance (alpha) and make a decision about whether to reject or fail to reject the null hypothesis.\n",
    "\n",
    "If the p-value is less than or equal to alpha, then the null hypothesis is rejected, and it is concluded that the observed distribution differs significantly from the theoretical distribution. If the p-value is greater than alpha, then the null hypothesis is not rejected, and it is concluded that the observed distribution is not significantly different from the theoretical distribution.\n"
   ]
  },
  {
   "cell_type": "code",
   "execution_count": 23,
   "metadata": {},
   "outputs": [],
   "source": [
    "# Find the number of rows in late_shipments\n",
    "n_total = len(late_shipments)\n",
    "\n",
    "# Frequency table of vendor_inco_term\n",
    "freq_table = late_shipments.groupby(['vendor_inco_term'])['late'].count()\n",
    "hypothesized = freq_table / n_total \n",
    "hypothesized = pd.DataFrame({'vendor_inco_term': hypothesized.index, 'prop': [0.05, 0.1, 0.75, 0.1]})\n",
    "\n",
    "# Create a DataFrame of the observed values\n",
    "inco_term = freq_table.copy()\n",
    "inco_term = pd.DataFrame(inco_term).reset_index()\n",
    "inco_term.columns = ['vendor_inco_term', 'n']"
   ]
  },
  {
   "cell_type": "code",
   "execution_count": 24,
   "metadata": {},
   "outputs": [
    {
     "data": {
      "image/png": "[encoded data removed]",
      "text/plain": [
       "<Figure size 640x480 with 1 Axes>"
      ]
     },
     "metadata": {},
     "output_type": "display_data"
    }
   ],
   "source": [
    "# Create n column that is prop column * n_total\n",
    "hypothesized['n'] = hypothesized['prop'] * n_total\n",
    "\n",
    "# Make a yellow bar graph of vendor_inco_term versus n\n",
    "plt.bar(inco_term['vendor_inco_term'], inco_term['n'], color=\"red\")\n",
    "\n",
    "# Add blue points for hypothesized counts\n",
    "plt.bar(hypothesized['vendor_inco_term'],hypothesized['n'],color='blue', alpha=0.5)\n",
    "plt.show()"
   ]
  },
  {
   "cell_type": "code",
   "execution_count": null,
   "metadata": {},
   "outputs": [],
   "source": [
    "# Perform a goodness of fit test on vendor_inco_term\n",
    "gof_test = stats.chisquare(f_obs=inco_term['n'], f_exp=hypothesized['n'])\n",
    "# Print gof_test results\n",
    "print(gof_test)\n",
    "print(f'The p-value is 0.5, so we fail to reject the null hypothesis that vendor_inco_term is distributed according to the hypothesized distribution.')"
   ]
  },
  {
   "attachments": {},
   "cell_type": "markdown",
   "metadata": {},
   "source": [
    "## Assumptions of Hypothesis Testing\n",
    "\n",
    "Hypothesis testing is a statistical method used to determine whether a hypothesis is supported by the data or not. The following are the common assumptions of hypothesis testing:\n",
    "\n",
    "1. Random Sampling: The data used in the hypothesis testing should be obtained from a random sample. A random sample ensures that the data is representative of the population being studied and reduces the risk of bias.\n",
    "\n",
    "2. Normality: The data should follow a normal distribution. If the data is not normally distributed, transformations or non-parametric methods may need to be used.\n",
    "\n",
    "3. Independence: The observations in the data set should be independent of each other. This means that the value of one observation should not be influenced by the value of another observation.\n",
    "\n",
    "4. Homogeneity of Variance: The variance of the data should be consistent across all levels of the independent variable. This is known as homogeneity of variance or equal variances.\n",
    "\n",
    "5. Hypothesis should be well-defined: The hypothesis being tested should be well-defined and testable. This means that the hypothesis should be specific and clearly state the expected outcome.\n",
    "\n",
    "6. Significance Level: A significance level (alpha level) is chosen prior to conducting the hypothesis test, which determines the probability of making a Type I error (rejecting a true null hypothesis).\n",
    "\n",
    "7. Sample Size: The sample size should be large enough to ensure statistical power, but not so large that it becomes unmanageable or impractical.\n",
    "\n",
    "These assumptions may vary depending on the specific hypothesis testing technique used and the nature of the data being analyzed."
   ]
  },
  {
   "cell_type": "code",
   "execution_count": 29,
   "metadata": {},
   "outputs": [
    {
     "name": "stdout",
     "output_type": "stream",
     "text": [
      "expensive     531\n",
      "reasonable    454\n",
      "Name: freight_cost_groups, dtype: int64\n",
      "True\n"
     ]
    }
   ],
   "source": [
    "# Are these samples big enough for a two sample t-test?\n",
    "# Count the freight_cost_group values\n",
    "counts = late_shipments['freight_cost_groups'].value_counts()\n",
    "\n",
    "# Print the result\n",
    "print(counts)\n",
    "\n",
    "# Inspect whether the counts are big enough\n",
    "print((counts >= 30).all())"
   ]
  },
  {
   "cell_type": "code",
   "execution_count": 30,
   "metadata": {},
   "outputs": [
    {
     "name": "stdout",
     "output_type": "stream",
     "text": [
      "No     938\n",
      "Yes     61\n",
      "Name: late, dtype: int64\n",
      "True\n"
     ]
    }
   ],
   "source": [
    "# Are these samples big enough for a one sample proportion test?\n",
    "# Count the late values\n",
    "counts = late_shipments['late'].value_counts()\n",
    "\n",
    "# Print the result\n",
    "print(counts)\n",
    "\n",
    "# Inspect whether the counts are big enough\n",
    "print((counts >= 10).all())"
   ]
  },
  {
   "cell_type": "code",
   "execution_count": 31,
   "metadata": {},
   "outputs": [
    {
     "name": "stdout",
     "output_type": "stream",
     "text": [
      "vendor_inco_term  freight_cost_groups\n",
      "CIP               reasonable              34\n",
      "                  expensive               16\n",
      "DDP               expensive               55\n",
      "                  reasonable              45\n",
      "EXW               expensive              423\n",
      "                  reasonable             302\n",
      "FCA               reasonable              73\n",
      "                  expensive               37\n",
      "Name: freight_cost_groups, dtype: int64\n",
      "True\n"
     ]
    }
   ],
   "source": [
    "# Are these samples \"big enough\" for a chi-square independence test?\n",
    "# Count the values of freight_cost_group grouped by vendor_inco_term\n",
    "counts = late_shipments.groupby(['vendor_inco_term'])['freight_cost_groups'].value_counts()\n",
    "\n",
    "# Print the result\n",
    "print(counts)\n",
    "\n",
    "# Inspect whether the counts are big enough\n",
    "print((counts >= 5).all())"
   ]
  },
  {
   "cell_type": "code",
   "execution_count": 32,
   "metadata": {},
   "outputs": [
    {
     "name": "stdout",
     "output_type": "stream",
     "text": [
      "Air            905\n",
      "Ocean           88\n",
      "Air Charter      6\n",
      "Name: shipment_mode, dtype: int64\n",
      "False\n"
     ]
    }
   ],
   "source": [
    "# Are these samples big enough for an ANOVA test?\n",
    "# Count the shipment_mode values\n",
    "counts = late_shipments['shipment_mode'].value_counts()\n",
    "\n",
    "# Print the result\n",
    "print(counts)\n",
    "\n",
    "# Inspect whether the counts are big enough\n",
    "print((counts >= 30).all())"
   ]
  },
  {
   "attachments": {},
   "cell_type": "markdown",
   "metadata": {},
   "source": [
    "While all other samples are sufficent enough given the small sample of Air Charter we would be cautious of an ANOVA test"
   ]
  },
  {
   "attachments": {},
   "cell_type": "markdown",
   "metadata": {},
   "source": [
    "## Non-Parametric Tests\n",
    "\n",
    "Non-parametric tests are statistical tests that do not require the assumption of a specific distribution of the data. These tests are useful when the data does not meet the assumptions of parametric tests such as normality or equal variances. Here are some common non-parametric tests:\n",
    "\n",
    "1. Mann-Whitney U Test: This test is used to compare the median values of two independent groups. It is equivalent to the two-sample t-test but does not assume normality or equal variances.\n",
    "\n",
    "2. Wilcoxon Signed-Rank Test: This test is used to compare the median values of two related samples. It is equivalent to the paired t-test but does not assume normality or equal variances.\n",
    "\n",
    "3. Kruskal-Wallis Test: This test is used to compare the median values of three or more independent groups. It is equivalent to the one-way ANOVA but does not assume normality or equal variances.\n",
    "\n",
    "4. Friedman Test: This test is used to compare the median values of three or more related samples. It is equivalent to the repeated measures ANOVA but does not assume normality or equal variances.\n",
    "\n",
    "5. Spearman's Rank Correlation: This test is used to measure the strength and direction of the relationship between two variables when the data is not normally distributed.\n",
    "\n",
    "6. Kendall's Tau Correlation: This test is used to measure the strength and direction of the relationship between two variables when the data is not normally distributed.\n",
    "\n",
    "These non-parametric tests are just a few examples and there are many other non-parametric tests available depending on the specific research question and data type."
   ]
  },
  {
   "attachments": {},
   "cell_type": "markdown",
   "metadata": {},
   "source": [
    "### Wilcoxon Signed-Rank Test\n",
    "\n",
    "The Wilcoxon signed-rank test is a non-parametric statistical test used to compare the median values of two related samples. It is used when the data does not meet the assumptions of the paired t-test, such as normality or equal variances. The Wilcoxon signed-rank test is a one-sample test, which means that it tests whether the median difference between the two related samples is significantly different from zero.\n",
    "\n",
    "The following are the steps for performing the Wilcoxon signed-rank test:\n",
    "\n",
    "1. State the null hypothesis and alternative hypothesis. The null hypothesis states that there is no significant difference between the two related samples, while the alternative hypothesis states that there is a significant difference.\n",
    "\n",
    "2. Calculate the differences between the paired observations. The difference should be calculated by subtracting the second observation from the first observation.\n",
    "\n",
    "3. Rank the absolute values of the differences. The absolute values of the differences are ranked from smallest to largest. If there are ties, the ranks are averaged.\n",
    "\n",
    "4. Calculate the test statistic. The test statistic is the sum of the ranks of the positive differences or the sum of the ranks of the negative differences, whichever is smaller. The test statistic follows a Wilcoxon signed-rank distribution.\n",
    "\n",
    "5. Determine the p-value. The p-value is calculated from the Wilcoxon signed-rank distribution table or a statistical software program. If the p-value is less than the significance level (alpha), then the null hypothesis is rejected in favor of the alternative hypothesis.\n",
    "\n",
    "6. Interpret the results. If the null hypothesis is rejected, then there is a significant difference between the two related samples. If the null hypothesis is not rejected, then there is no significant difference. The effect size can also be calculated using Cohen's d or other measures."
   ]
  },
  {
   "cell_type": "code",
   "execution_count": 33,
   "metadata": {},
   "outputs": [
    {
     "data": {
      "text/html": [
       "<div>\n",
       "<style scoped>\n",
       "    .dataframe tbody tr th:only-of-type {\n",
       "        vertical-align: middle;\n",
       "    }\n",
       "\n",
       "    .dataframe tbody tr th {\n",
       "        vertical-align: top;\n",
       "    }\n",
       "\n",
       "    .dataframe thead th {\n",
       "        text-align: right;\n",
       "    }\n",
       "</style>\n",
       "<table border=\"1\" class=\"dataframe\">\n",
       "  <thead>\n",
       "    <tr style=\"text-align: right;\">\n",
       "      <th></th>\n",
       "      <th>T</th>\n",
       "      <th>dof</th>\n",
       "      <th>alternative</th>\n",
       "      <th>p-val</th>\n",
       "      <th>CI95%</th>\n",
       "      <th>cohen-d</th>\n",
       "      <th>BF10</th>\n",
       "      <th>power</th>\n",
       "    </tr>\n",
       "  </thead>\n",
       "  <tbody>\n",
       "    <tr>\n",
       "      <th>T-test</th>\n",
       "      <td>30.298384</td>\n",
       "      <td>499</td>\n",
       "      <td>two-sided</td>\n",
       "      <td>3.600634e-115</td>\n",
       "      <td>[6.39, 7.27]</td>\n",
       "      <td>0.454202</td>\n",
       "      <td>2.246e+111</td>\n",
       "      <td>1.0</td>\n",
       "    </tr>\n",
       "  </tbody>\n",
       "</table>\n",
       "</div>"
      ],
      "text/plain": [
       "                T  dof alternative          p-val         CI95%   cohen-d  \\\n",
       "T-test  30.298384  499   two-sided  3.600634e-115  [6.39, 7.27]  0.454202   \n",
       "\n",
       "              BF10  power  \n",
       "T-test  2.246e+111    1.0  "
      ]
     },
     "execution_count": 33,
     "metadata": {},
     "output_type": "execute_result"
    }
   ],
   "source": [
    "# Conduct a paired t-test on the percentage columns using an appropriate alternative hypothesis.\n",
    "# Conduct a paired t-test on dem_percent_12 and dem_percent_16\n",
    "paired_test_results = pg.ttest(x=sample_dem_data['dem_percent_12'], \n",
    "                                     y=sample_dem_data['dem_percent_16'],\n",
    "                                     paired=True,\n",
    "                                     alternative=\"two-sided\")\n",
    "\n",
    "# Print paired t-test results\n",
    "paired_test_results"
   ]
  },
  {
   "cell_type": "code",
   "execution_count": 34,
   "metadata": {},
   "outputs": [
    {
     "data": {
      "text/html": [
       "<div>\n",
       "<style scoped>\n",
       "    .dataframe tbody tr th:only-of-type {\n",
       "        vertical-align: middle;\n",
       "    }\n",
       "\n",
       "    .dataframe tbody tr th {\n",
       "        vertical-align: top;\n",
       "    }\n",
       "\n",
       "    .dataframe thead th {\n",
       "        text-align: right;\n",
       "    }\n",
       "</style>\n",
       "<table border=\"1\" class=\"dataframe\">\n",
       "  <thead>\n",
       "    <tr style=\"text-align: right;\">\n",
       "      <th></th>\n",
       "      <th>W-val</th>\n",
       "      <th>alternative</th>\n",
       "      <th>p-val</th>\n",
       "      <th>RBC</th>\n",
       "      <th>CLES</th>\n",
       "    </tr>\n",
       "  </thead>\n",
       "  <tbody>\n",
       "    <tr>\n",
       "      <th>Wilcoxon</th>\n",
       "      <td>2401.0</td>\n",
       "      <td>two-sided</td>\n",
       "      <td>1.780396e-77</td>\n",
       "      <td>0.961661</td>\n",
       "      <td>0.644816</td>\n",
       "    </tr>\n",
       "  </tbody>\n",
       "</table>\n",
       "</div>"
      ],
      "text/plain": [
       "           W-val alternative         p-val       RBC      CLES\n",
       "Wilcoxon  2401.0   two-sided  1.780396e-77  0.961661  0.644816"
      ]
     },
     "execution_count": 34,
     "metadata": {},
     "output_type": "execute_result"
    }
   ],
   "source": [
    "# Conduct a Wilcoxon test on dem_percent_12 and dem_percent_16\n",
    "wilcoxon_test_results = pg.wilcoxon(x=sample_dem_data['dem_percent_12'],\n",
    "                                        y=sample_dem_data['dem_percent_16'],\n",
    "                                        alternative='two-sided')\n",
    "\n",
    "\n",
    "\n",
    "# Print Wilcoxon test results\n",
    "wilcoxon_test_results"
   ]
  },
  {
   "attachments": {},
   "cell_type": "markdown",
   "metadata": {},
   "source": [
    "Given the large sample size (500), you obtained similar results here between the parametric t-test and non-parametric Wilcoxon test with a very small p-value."
   ]
  },
  {
   "attachments": {},
   "cell_type": "markdown",
   "metadata": {},
   "source": [
    "### Non-Parametric ANOVA and unpaired t-test"
   ]
  },
  {
   "cell_type": "code",
   "execution_count": 35,
   "metadata": {},
   "outputs": [
    {
     "data": {
      "text/html": [
       "<div>\n",
       "<style scoped>\n",
       "    .dataframe tbody tr th:only-of-type {\n",
       "        vertical-align: middle;\n",
       "    }\n",
       "\n",
       "    .dataframe tbody tr th {\n",
       "        vertical-align: top;\n",
       "    }\n",
       "\n",
       "    .dataframe thead th {\n",
       "        text-align: right;\n",
       "    }\n",
       "</style>\n",
       "<table border=\"1\" class=\"dataframe\">\n",
       "  <thead>\n",
       "    <tr style=\"text-align: right;\">\n",
       "      <th></th>\n",
       "      <th>U-val</th>\n",
       "      <th>alternative</th>\n",
       "      <th>p-val</th>\n",
       "      <th>RBC</th>\n",
       "      <th>CLES</th>\n",
       "    </tr>\n",
       "  </thead>\n",
       "  <tbody>\n",
       "    <tr>\n",
       "      <th>MWU</th>\n",
       "      <td>19131.0</td>\n",
       "      <td>two-sided</td>\n",
       "      <td>0.000014</td>\n",
       "      <td>0.331294</td>\n",
       "      <td>0.334353</td>\n",
       "    </tr>\n",
       "  </tbody>\n",
       "</table>\n",
       "</div>"
      ],
      "text/plain": [
       "       U-val alternative     p-val       RBC      CLES\n",
       "MWU  19131.0   two-sided  0.000014  0.331294  0.334353"
      ]
     },
     "execution_count": 35,
     "metadata": {},
     "output_type": "execute_result"
    }
   ],
   "source": [
    "# Choose the weight_kilograms and late columns\n",
    "weight_vs_late = late_shipments[['weight_kilograms','late']]\n",
    "# Convert weight_vs_late into wide format\n",
    "weight_vs_late_wide = pd.pivot(weight_vs_late,values='weight_kilograms' ,columns='late')\n",
    "# Run a two-sided Wilcoxon-Mann-Whitney test on weight_kilograms vs. late\n",
    "wmw_test = pg.mwu(x=weight_vs_late_wide[\"No\"],y=weight_vs_late_wide['Yes'],alternative='two-sided')\n",
    "# Print the test results\n",
    "wmw_test"
   ]
  },
  {
   "attachments": {},
   "cell_type": "markdown",
   "metadata": {},
   "source": [
    "The small p-value here leads us to suspect that a difference does exist in the weight of the shipment and whether or not it was late. The Wilcoxon-Mann-Whitney test is useful when you cannot satisfy the assumptions for a parametric test comparing two means, like the t-test."
   ]
  },
  {
   "attachments": {},
   "cell_type": "markdown",
   "metadata": {},
   "source": [
    "### Kruskal-Wallis Test\n",
    "\n",
    "The Kruskal-Wallis test is a non-parametric statistical test used to compare the median values of three or more independent groups. It is used when the data does not meet the assumptions of the one-way ANOVA, such as normality or equal variances. The Kruskal-Wallis test is a one-way test, which means that it tests whether the median values of the three or more independent groups are significantly different from each other."
   ]
  },
  {
   "cell_type": "code",
   "execution_count": 36,
   "metadata": {},
   "outputs": [
    {
     "data": {
      "text/html": [
       "<div>\n",
       "<style scoped>\n",
       "    .dataframe tbody tr th:only-of-type {\n",
       "        vertical-align: middle;\n",
       "    }\n",
       "\n",
       "    .dataframe tbody tr th {\n",
       "        vertical-align: top;\n",
       "    }\n",
       "\n",
       "    .dataframe thead th {\n",
       "        text-align: right;\n",
       "    }\n",
       "</style>\n",
       "<table border=\"1\" class=\"dataframe\">\n",
       "  <thead>\n",
       "    <tr style=\"text-align: right;\">\n",
       "      <th></th>\n",
       "      <th>Source</th>\n",
       "      <th>ddof1</th>\n",
       "      <th>H</th>\n",
       "      <th>p-unc</th>\n",
       "    </tr>\n",
       "  </thead>\n",
       "  <tbody>\n",
       "    <tr>\n",
       "      <th>Kruskal</th>\n",
       "      <td>shipment_mode</td>\n",
       "      <td>2</td>\n",
       "      <td>124.983244</td>\n",
       "      <td>7.248254e-28</td>\n",
       "    </tr>\n",
       "  </tbody>\n",
       "</table>\n",
       "</div>"
      ],
      "text/plain": [
       "                Source  ddof1           H         p-unc\n",
       "Kruskal  shipment_mode      2  124.983244  7.248254e-28"
      ]
     },
     "execution_count": 36,
     "metadata": {},
     "output_type": "execute_result"
    }
   ],
   "source": [
    "# Run a Kruskal-Wallis test on weight_kilograms vs. shipment_mode\n",
    "kw_test = pg.kruskal(data=late_shipments,dv='weight_kilograms',between='shipment_mode')\n",
    "# Print the results\n",
    "kw_test"
   ]
  },
  {
   "attachments": {},
   "cell_type": "markdown",
   "metadata": {},
   "source": [
    "The Kruskal-Wallis test yielded a very small p-value, so there is evidence that at least one of the three groups of shipment mode has a different weight distribution than the others. The Kruskal-Wallis test is comparable to an ANOVA, which tests for a difference in means across multiple groups."
   ]
  },
  {
   "attachments": {},
   "cell_type": "markdown",
   "metadata": {},
   "source": [
    "#### Cheat Sheet"
   ]
  },
  {
   "attachments": {},
   "cell_type": "markdown",
   "metadata": {},
   "source": [
    "Lastly this is a cheatsheet I found that has come in handy for me. I hope it helps you too! </br>\n",
    "Nominal Data also means categorical data. </br> </br>\n",
    "![](https://i.pinimg.com/564x/f6/b1/aa/f6b1aaca8fc74b3cc6d7b5334fc9519c.jpg)"
   ]
  }
 ],
 "metadata": {
  "kernelspec": {
   "display_name": "base",
   "language": "python",
   "name": "python3"
  },
  "language_info": {
   "codemirror_mode": {
    "name": "ipython",
    "version": 3
   },
   "file_extension": ".py",
   "mimetype": "text/x-python",
   "name": "python",
   "nbconvert_exporter": "python",
   "pygments_lexer": "ipython3",
   "version": "3.10.9"
  },
  "orig_nbformat": 4
 },
 "nbformat": 4,
 "nbformat_minor": 2
}
