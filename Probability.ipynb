{
 "cells": [
  {
   "attachments": {},
   "cell_type": "markdown",
   "metadata": {},
   "source": [
    "# Probability"
   ]
  },
  {
   "attachments": {},
   "cell_type": "markdown",
   "metadata": {},
   "source": [
    "Probability is the study of random events. We will use the following notation:\n",
    "\n",
    "* $P(A)$ is the probability of event $A$.\n",
    "* $P(A \\mid B)$ is the probability of event $A$ given that event $B$ has occurred.\n",
    "* $P(A \\cap B)$ is the probability of event $A$ and event $B$ occurring simultaneously.\n",
    "* $P(A \\cup B)$ is the probability of event $A$ or event $B$ occurring.\n",
    "\n",
    "Some useful formulas:\n",
    "\n",
    "* This denotes the probability of A occurring, given that B has occurred. $P(A \\mid B) = \\frac{P(A \\cap B)}{P(B)}$\n",
    "* This formula calculates the probability of A or B occurring. $P(A \\cup B) = P(A) + P(B) - P(A \\cap B)$\n",
    "* Bayes Theorem: $P(A \\mid B) = \\frac{P(B \\mid A)P(A)}{P(B)}$\n"
   ]
  },
  {
   "attachments": {},
   "cell_type": "markdown",
   "metadata": {},
   "source": [
    "## Probability of a single event\n",
    "\n",
    "The probability of a single event is a number between 0 and 1. The probability of an event is 1 if the event is certain to occur, and 0 if the event is certain to not occur.\n"
   ]
  },
  {
   "attachments": {},
   "cell_type": "markdown",
   "metadata": {},
   "source": [
    "## Probability of a compound event\n",
    "\n",
    "The probability of a compound event is the sum of the probabilities of the individual events. For example, the probability of rolling a 1 or a 2 on a die is $P(1) + P(2) = 1/6 + 1/6 = 1/3$."
   ]
  },
  {
   "attachments": {},
   "cell_type": "markdown",
   "metadata": {},
   "source": [
    "## Probability of a compound event given another event\n",
    "\n",
    "The probability of a compound event given another event is the sum of the probabilities of the individual events given the other event. For example, the probability of rolling a 1 or a 2 on a die given that the number is odd is $P(1 \\mid odd) + P(2 \\mid odd) = 1/3 + 1/3 = 2/3$."
   ]
  },
  {
   "attachments": {},
   "cell_type": "markdown",
   "metadata": {},
   "source": [
    "## Mutually exclusive events\n",
    "\n",
    "Two events are mutually exclusive if they cannot occur simultaneously. For example, the events \"rolling a 1\" and \"rolling a 2\" are mutually exclusive because they cannot both occur simultaneously. The probability of a mutually exclusive event is the sum of the probabilities of the individual events. For example, the probability of rolling a 1 or a 2 on a die is $P(1) + P(2) = 1/6 + 1/6 = 1/3$."
   ]
  },
  {
   "cell_type": "code",
   "execution_count": 11,
   "metadata": {},
   "outputs": [],
   "source": [
    "import numpy as np\n",
    "deck_of_cards = [(i,j) for i in range(0,13) for j in ['Spades', 'Hearts', 'Diamonds', 'Clubs']]"
   ]
  },
  {
   "cell_type": "code",
   "execution_count": 1,
   "metadata": {},
   "outputs": [],
   "source": [
    "# There is a fair coin (one side heads, one side tails) and an unfair coin (both sides tails). \n",
    "# You pick one at random, flip it 5 times, and observe that it comes up as tails all five times. \n",
<<<<<<< HEAD
    "# What is the chance that you are flipping the unfair coin?"
=======
    "# What is the chance that you are flipping the unfair coin?\n"
>>>>>>> 0aebafdf484d72eba95103d326b3a03fd2e54007
   ]
  },
  {
   "attachments": {},
   "cell_type": "markdown",
   "metadata": {},
   "source": [
    "### Poission Distribution\n"
   ]
  },
  {
   "attachments": {},
   "cell_type": "markdown",
   "metadata": {},
   "source": [
    "The Poisson distribution is a discrete probability distribution that expresses the probability of a given number of events occurring in a fixed interval of time or space if these events occur with a known constant rate and independently of the time since the last event. The Poisson distribution can also be used for the number of events in other specified intervals such as distance, area or volume."
   ]
  },
  {
   "cell_type": "code",
   "execution_count": 12,
   "metadata": {},
   "outputs": [
    {
     "name": "stdout",
     "output_type": "stream",
     "text": [
      "|Lambda - sample mean| with 3 samples is 1.666666666666667 and with 1000 samples is 0.07599999999999962. \n"
     ]
    }
   ],
   "source": [
    "# Draw samples & calculate absolute difference between lambda and sample mean\n",
    "lam, size_1, size_2 = 5, 3, 1000  \n",
    "samples_1 = np.random.poisson(lam, size_1)\n",
    "samples_2 = np.random.poisson(lam, size_2)\n",
    "answer_1 = abs(lam - np.mean(samples_1))\n",
    "answer_2 = abs(lam - np.mean(samples_2)) \n",
    "\n",
    "print(\"|Lambda - sample mean| with {} samples is {} and with {} samples is {}. \".format(size_1, answer_1, size_2, answer_2))"
   ]
  }
 ],
 "metadata": {
  "kernelspec": {
   "display_name": "base",
   "language": "python",
   "name": "python3"
  },
  "language_info": {
   "codemirror_mode": {
    "name": "ipython",
    "version": 3
   },
   "file_extension": ".py",
   "mimetype": "text/x-python",
   "name": "python",
   "nbconvert_exporter": "python",
   "pygments_lexer": "ipython3",
   "version": "3.9.13"
  },
  "orig_nbformat": 4
 },
 "nbformat": 4,
 "nbformat_minor": 2
}
