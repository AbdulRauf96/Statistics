{
 "cells": [
  {
   "attachments": {},
   "cell_type": "markdown",
   "metadata": {},
   "source": [
    "# Statistial Simulation Using Python"
   ]
  },
  {
   "attachments": {},
   "cell_type": "markdown",
   "metadata": {},
   "source": [
    "Probability is the study of random phenomena. Random variables can be broken down into two broader categories: discrete and continuous. \n",
    "\n",
    "Discrete random variables can take on only a finite number of values, while continuous random variables can take on any value within a range. The probability of a discrete random variable taking on a particular value is called a probability mass function (PMF). The probability of a continuous random variable taking on a particular value is called a probability density function (PDF). The probability of a continuous random variable taking on a value between two numbers is called a cumulative distribution function (CDF)."
   ]
  },
  {
   "cell_type": "code",
   "execution_count": 2,
   "metadata": {},
   "outputs": [],
   "source": [
    "import numpy as np "
   ]
  },
  {
   "cell_type": "code",
   "execution_count": 8,
   "metadata": {},
   "outputs": [],
   "source": [
    "# Initialize seed and parameters\n",
    "np.random.seed(586852)"
   ]
  },
  {
   "cell_type": "code",
   "execution_count": 28,
   "metadata": {},
   "outputs": [
    {
     "name": "stdout",
     "output_type": "stream",
     "text": [
      "[('Spade', 2), ('Heart', 11), ('Spade', 10)]\n"
     ]
    }
   ],
   "source": [
    "deck_of_cards = [(i,j) for i in ['Heart','Club','Diamond','Spade'] for j in range(0,13)]\n",
    "np.random.shuffle(deck_of_cards)\n",
    "# Print out the top three cards\n",
    "card_choices_after_shuffle = deck_of_cards[:3]\n",
    "print(card_choices_after_shuffle)"
   ]
  },
  {
   "attachments": {},
   "cell_type": "markdown",
   "metadata": {},
   "source": [
    "### Simulation Basics"
   ]
  },
  {
   "attachments": {},
   "cell_type": "markdown",
   "metadata": {},
   "source": [
    "**Steps to perform a simulation:**\n",
    "1. Define possible outcomes\n",
    "2. Assign probabilities to each outcome\n",
    "3. Define relationships between variables\n",
    "4. Repeat the process a large number of times \n",
    "5. Analyze the results\n"
   ]
  },
  {
   "cell_type": "code",
   "execution_count": 171,
   "metadata": {},
   "outputs": [
    {
     "name": "stdout",
     "output_type": "stream",
     "text": [
      "Out of 100 simulations, the number of times the dice rolled the same number is 16\n"
     ]
    }
   ],
   "source": [
    "# Below is the code for the dice roll simulation\n",
    "# If the player rolls the same number on both dice, they win\n",
    "dice, probabilities, num_of_dice = [1,2,3,4,5,6], [1/6,1/6,1/6,1/6,1/6,1/6], 2\n",
    "sims, wins = 100, 0\n",
    "for i in range(sims):\n",
    "    dice_rolls = np.random.choice(dice, size=num_of_dice, p=probabilities)\n",
    "    if dice_rolls[0] == dice_rolls[1]:\n",
    "        wins += 1\n",
    "\n",
    "print(f'Out of {sims} simulations, the number of times the dice rolled the same number is {wins}')"
   ]
  },
  {
   "attachments": {},
   "cell_type": "markdown",
   "metadata": {},
   "source": [
    "Simulations are useful to understand the behavior of a system. They are also useful to understand the behavior of a system under different conditions. Another example is trying to predict if a person will win the lottery. The lottery is a random process, so we can use a simulation to predict the outcome."
   ]
  },
  {
   "cell_type": "code",
   "execution_count": 239,
   "metadata": {},
   "outputs": [
    {
     "name": "stdout",
     "output_type": "stream",
     "text": [
      "Average payoff from 2000 simulations = 0.0\n"
     ]
    }
   ],
   "source": [
    "# Initialize size and simulate outcome\n",
    "lottery_ticket_cost, num_tickets, grand_prize = 10, 1000, 10000\n",
    "chance_of_winning = 1/num_tickets\n",
    "size = 2000\n",
    "payoffs = [-lottery_ticket_cost, grand_prize-lottery_ticket_cost]\n",
    "probs = [1-chance_of_winning, chance_of_winning]\n",
    "outcomes = np.random.choice(a=payoffs, size=size, p=probs, replace=True)\n",
    "# Mean of outcomes.\n",
    "answer = np.mean(outcomes)\n",
    "print(\"Average payoff from {} simulations = {}\".format(size, answer))"
   ]
  },
  {
   "cell_type": "code",
   "execution_count": 310,
   "metadata": {},
   "outputs": [
    {
     "name": "stdout",
     "output_type": "stream",
     "text": [
      "The highest price at which it makes sense to buy the ticket is 3\n"
     ]
    }
   ],
   "source": [
    "# Initialize simulations and cost of ticket\n",
    "sims, lottery_ticket_cost = 3000, 0\n",
    "\n",
    "# Use a while loop to increment `lottery_ticket_cost` till average value of outcomes falls below zero\n",
    "while 1:\n",
    "    outcomes = np.random.choice([-lottery_ticket_cost, grand_prize-lottery_ticket_cost],\n",
    "                 size=sims, p=[1-chance_of_winning, chance_of_winning], replace=True)\n",
    "    if outcomes.mean() < 0:\n",
    "        break\n",
    "    else:\n",
    "        lottery_ticket_cost += 1\n",
    "answer = lottery_ticket_cost - 1\n",
    "\n",
    "print(\"The highest price at which it makes sense to buy the ticket is {}\".format(answer))"
   ]
  },
  {
   "attachments": {},
   "cell_type": "markdown",
   "metadata": {},
   "source": [
    "Lets work on some examples of probability and simulation."
   ]
  },
  {
   "cell_type": "code",
   "execution_count": 322,
   "metadata": {},
   "outputs": [
    {
     "name": "stdout",
     "output_type": "stream",
     "text": [
      "Probability of seeing at least two of a kind = 0.496 \n"
     ]
    }
   ],
   "source": [
    "# Shuffle deck & count card occurrences in the hand\n",
    "n_sims, two_kind = 10000, 0\n",
    "for i in range(n_sims):\n",
    "    np.random.shuffle(deck_of_cards)\n",
    "    hand, cards_in_hand = deck_of_cards[0:5], {}\n",
    "    for [suite, numeric_value] in hand:\n",
    "        # Count occurrences of each numeric value\n",
    "        cards_in_hand[numeric_value] = cards_in_hand.get(numeric_value, 0) + 1\n",
    "    \n",
    "    # Condition for getting at least 2 of a kind\n",
    "    if max(cards_in_hand.values()) >=2: \n",
    "        two_kind += 1\n",
    "\n",
    "print(\"Probability of seeing at least two of a kind = {} \".format(two_kind/n_sims))"
   ]
  },
  {
   "cell_type": "code",
   "execution_count": 323,
   "metadata": {},
   "outputs": [
    {
     "name": "stdout",
     "output_type": "stream",
     "text": [
      "Probability of winning = 0.35750000000000004\n"
     ]
    }
   ],
   "source": [
    "# Pre-set constant variables\n",
    "deck, sims, coincidences = np.arange(1, 14), 10000, 0\n",
    "\n",
    "for _ in range(sims):\n",
    "    # Draw all the cards without replacement to simulate one game\n",
    "    draw = np.random.choice(deck, size=13, replace=False) \n",
    "    # Check if there are any coincidences\n",
    "    coincidence = (draw == list(np.arange(1, 14))).any()\n",
    "    if coincidence == True:\n",
    "        coincidences += 1\n",
    "\n",
    "# Calculate probability of winning\n",
    "prob_of_winning = 1-coincidences/sims\n",
    "print(\"Probability of winning = {}\".format(prob_of_winning))"
   ]
  }
 ],
 "metadata": {
  "kernelspec": {
   "display_name": "base",
   "language": "python",
   "name": "python3"
  },
  "language_info": {
   "codemirror_mode": {
    "name": "ipython",
    "version": 3
   },
   "file_extension": ".py",
   "mimetype": "text/x-python",
   "name": "python",
   "nbconvert_exporter": "python",
   "pygments_lexer": "ipython3",
   "version": "3.9.13"
  },
  "orig_nbformat": 4
 },
 "nbformat": 4,
 "nbformat_minor": 2
}
