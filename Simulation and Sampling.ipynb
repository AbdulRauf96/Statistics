{
 "cells": [
  {
   "attachments": {},
   "cell_type": "markdown",
   "metadata": {},
   "source": [
    "# Statistial Simulation Using Python"
   ]
  },
  {
   "attachments": {},
   "cell_type": "markdown",
   "metadata": {},
   "source": [
    "Probability is the study of random phenomena. Random variables can be broken down into two broader categories: discrete and continuous. \n",
    "\n",
    "Discrete random variables can take on only a finite number of values, while continuous random variables can take on any value within a range. The probability of a discrete random variable taking on a particular value is called a probability mass function (PMF). The probability of a continuous random variable taking on a particular value is called a probability density function (PDF). The probability of a continuous random variable taking on a value between two numbers is called a cumulative distribution function (CDF)."
   ]
  },
  {
   "cell_type": "code",
   "execution_count": 210,
   "metadata": {},
   "outputs": [],
   "source": [
    "import numpy as np "
   ]
  },
  {
   "cell_type": "code",
   "execution_count": 211,
   "metadata": {},
   "outputs": [],
   "source": [
    "# Initialize seed and parameters\n",
    "np.random.seed(586852)"
   ]
  },
  {
   "cell_type": "code",
   "execution_count": 212,
   "metadata": {},
   "outputs": [
    {
     "name": "stdout",
     "output_type": "stream",
     "text": [
      "[('Spade', 2), ('Diamond', 2), ('Spade', 3)]\n"
     ]
    }
   ],
   "source": [
    "deck_of_cards = [(i,j) for i in ['Heart','Club','Diamond','Spade'] for j in range(0,13)]\n",
    "np.random.shuffle(deck_of_cards)\n",
    "# Print out the top three cards\n",
    "card_choices_after_shuffle = deck_of_cards[:3]\n",
    "print(card_choices_after_shuffle)"
   ]
  },
  {
   "attachments": {},
   "cell_type": "markdown",
   "metadata": {},
   "source": [
    "### Simulation Basics"
   ]
  },
  {
   "attachments": {},
   "cell_type": "markdown",
   "metadata": {},
   "source": [
    "**Steps to perform a simulation:**\n",
    "1. Define possible outcomes\n",
    "2. Assign probabilities to each outcome\n",
    "3. Define relationships between variables\n",
    "4. Repeat the process a large number of times \n",
    "5. Analyze the results\n"
   ]
  },
  {
   "cell_type": "code",
   "execution_count": 213,
   "metadata": {},
   "outputs": [
    {
     "name": "stdout",
     "output_type": "stream",
     "text": [
      "Out of 100 simulations, the number of times the dice rolled the same number is 10\n"
     ]
    }
   ],
   "source": [
    "# Below is the code for the dice roll simulation\n",
    "# If the player rolls the same number on both dice, they win\n",
    "dice, probabilities, num_of_dice = [1,2,3,4,5,6], [1/6,1/6,1/6,1/6,1/6,1/6], 2\n",
    "sims, wins = 100, 0\n",
    "for i in range(sims):\n",
    "    dice_rolls = np.random.choice(dice, size=num_of_dice, p=probabilities)\n",
    "    if dice_rolls[0] == dice_rolls[1]:\n",
    "        wins += 1\n",
    "\n",
    "print(f'Out of {sims} simulations, the number of times the dice rolled the same number is {wins}')"
   ]
  },
  {
   "attachments": {},
   "cell_type": "markdown",
   "metadata": {},
   "source": [
    "Simulations are useful to understand the behavior of a system. They are also useful to understand the behavior of a system under different conditions. Another example is trying to predict if a person will win the lottery. The lottery is a random process, so we can use a simulation to predict the outcome."
   ]
  },
  {
   "cell_type": "code",
   "execution_count": 214,
   "metadata": {},
   "outputs": [
    {
     "name": "stdout",
     "output_type": "stream",
     "text": [
      "Average payoff from 2000 simulations = 5.0\n"
     ]
    }
   ],
   "source": [
    "# Initialize size and simulate outcome\n",
    "lottery_ticket_cost, num_tickets, grand_prize = 10, 1000, 10000\n",
    "chance_of_winning = 1/num_tickets\n",
    "size = 2000\n",
    "payoffs = [-lottery_ticket_cost, grand_prize-lottery_ticket_cost]\n",
    "probs = [1-chance_of_winning, chance_of_winning]\n",
    "outcomes = np.random.choice(a=payoffs, size=size, p=probs, replace=True)\n",
    "# Mean of outcomes.\n",
    "answer = np.mean(outcomes)\n",
    "print(\"Average payoff from {} simulations = {}\".format(size, answer))"
   ]
  },
  {
   "cell_type": "code",
   "execution_count": 215,
   "metadata": {},
   "outputs": [
    {
     "name": "stdout",
     "output_type": "stream",
     "text": [
      "The highest price at which it makes sense to buy the ticket is 3\n"
     ]
    }
   ],
   "source": [
    "# Initialize simulations and cost of ticket\n",
    "sims, lottery_ticket_cost = 3000, 0\n",
    "\n",
    "# Use a while loop to increment `lottery_ticket_cost` till average value of outcomes falls below zero\n",
    "while 1:\n",
    "    outcomes = np.random.choice([-lottery_ticket_cost, grand_prize-lottery_ticket_cost],\n",
    "                 size=sims, p=[1-chance_of_winning, chance_of_winning], replace=True)\n",
    "    if outcomes.mean() < 0:\n",
    "        break\n",
    "    else:\n",
    "        lottery_ticket_cost += 1\n",
    "answer = lottery_ticket_cost - 1\n",
    "\n",
    "print(\"The highest price at which it makes sense to buy the ticket is {}\".format(answer))"
   ]
  },
  {
   "attachments": {},
   "cell_type": "markdown",
   "metadata": {},
   "source": [
    "Lets work on some examples of probability and simulation."
   ]
  },
  {
   "cell_type": "code",
   "execution_count": null,
   "metadata": {},
   "outputs": [],
   "source": []
  },
  {
   "cell_type": "code",
   "execution_count": 216,
   "metadata": {},
   "outputs": [
    {
     "name": "stdout",
     "output_type": "stream",
     "text": [
      "Probability of seeing at least two of a kind = 0.484 \n"
     ]
    }
   ],
   "source": [
    "# Shuffle deck & count card occurrences in the hand\n",
    "n_sims, two_kind = 10000, 0\n",
    "for i in range(n_sims):\n",
    "    np.random.shuffle(deck_of_cards)\n",
    "    hand, cards_in_hand = deck_of_cards[0:5], {}\n",
    "    for [suite, numeric_value] in hand:\n",
    "        # Count occurrences of each numeric value\n",
    "        cards_in_hand[numeric_value] = cards_in_hand.get(numeric_value, 0) + 1\n",
    "    \n",
    "    # Condition for getting at least 2 of a kind\n",
    "    if max(cards_in_hand.values()) >=2: \n",
    "        two_kind += 1\n",
    "\n",
    "print(\"Probability of seeing at least two of a kind = {} \".format(two_kind/n_sims))"
   ]
  },
  {
   "cell_type": "code",
   "execution_count": 217,
   "metadata": {},
   "outputs": [
    {
     "name": "stdout",
     "output_type": "stream",
     "text": [
      "Probability of winning = 0.37960000000000005\n"
     ]
    }
   ],
   "source": [
    "# Pre-set constant variables\n",
    "deck, sims, coincidences = np.arange(1, 14), 10000, 0\n",
    "\n",
    "for _ in range(sims):\n",
    "    # Draw all the cards without replacement to simulate one game\n",
    "    draw = np.random.choice(deck, size=13, replace=False) \n",
    "    # Check if there are any coincidences\n",
    "    coincidence = (draw == list(np.arange(1, 14))).any()\n",
    "    if coincidence == True:\n",
    "        coincidences += 1\n",
    "\n",
    "# Calculate probability of winning\n",
    "prob_of_winning = 1-coincidences/sims\n",
    "print(\"Probability of winning = {}\".format(prob_of_winning))"
   ]
  },
  {
   "cell_type": "code",
   "execution_count": 218,
   "metadata": {},
   "outputs": [
    {
     "name": "stdout",
     "output_type": "stream",
     "text": [
      "You win!\n",
      "You lose!\n",
      "You win!\n",
      "You lose!\n",
      "You lose!\n",
      "You lose!\n",
      "You lose!\n",
      "You lose!\n",
      "You lose!\n",
      "You lose!\n"
     ]
    }
   ],
   "source": [
    "# _ in range(10) is a dummy variable that is not used in the loop. It is used to iterate over the loop 10 times.\n",
    "# The loop is used to simulate 10 games of the game show.\n",
    "for _ in range(10):\n",
    "    # Draw a card from the deck\n",
    "    draw = np.random.choice(deck, size=1, replace=False)\n",
    "    # Check if the card drawn is a heart\n",
    "    if draw == 1:\n",
    "        print(\"You win!\")\n",
    "    else:\n",
    "        print(\"You lose!\")"
   ]
  },
  {
   "attachments": {},
   "cell_type": "markdown",
   "metadata": {},
   "source": [
    "We have an urn that contains 7 white and 6 black balls. Four balls are drawn at random. We'd like to know the probability that the first and third balls are white, while the second and the fourth balls are black."
   ]
  },
  {
   "cell_type": "code",
   "execution_count": 219,
   "metadata": {},
   "outputs": [
    {
     "name": "stdout",
     "output_type": "stream",
     "text": [
      "Probability of success = 0.0698\n"
     ]
    }
   ],
   "source": [
    "# Initialize success, sims and urn\n",
    "success, sims = 0, 5000\n",
    "urn = ['w']*7 + ['b']*6\n",
    "\n",
    "for _ in range(sims):\n",
    "    # Draw 4 balls without replacement\n",
    "    draw = np.random.choice(urn, replace=False, size=4)\n",
    "    # Count the number of successes\n",
    "    if (draw[0] == 'w') & (draw[1] == 'b') & (draw[2] == 'w') & (draw[3] == 'b'):\n",
    "        success +=1\n",
    "\n",
    "print(\"Probability of success = {}\".format(success/sims))"
   ]
  },
  {
   "attachments": {},
   "cell_type": "markdown",
   "metadata": {},
   "source": [
    "Now we'll use simulation to solve a famous probability puzzle - the birthday problem. It sounds quite straightforward - How many people do you need in a room to ensure at least a 50% chance that two of them share the same birthday?\n",
    "\n",
    "With 366 people in a 365-day year, we are 100% sure that at least two have the same birthday, but we only need to be 50% sure. Simulation gives us an elegant way of solving this problem.\n",
    "\n",
    "Upon completion of this exercise, you will begin to understand how to cast problems in a simulation framework."
   ]
  },
  {
   "cell_type": "code",
   "execution_count": 220,
   "metadata": {},
   "outputs": [
    {
     "name": "stdout",
     "output_type": "stream",
     "text": [
      "With 25 people, there's a 50% chance that two share a birthday.\n"
     ]
    }
   ],
   "source": [
    "# Draw a sample of birthdays & check if each birthday is unique\n",
    "days = np.arange(1,366,1)\n",
    "people = 25\n",
    "\n",
    "def birthday_sim(people):\n",
    "    sims, unique_birthdays = 2000, 0 \n",
    "    for _ in range(sims):\n",
    "        draw = np.random.choice(days, size=people, replace=True)\n",
    "        if len(draw) == len(set(draw)): \n",
    "            unique_birthdays += 1\n",
    "    out = 1 - unique_birthdays / sims\n",
    "    return out\n",
    "\n",
    "# Break out of the loop if probability greater than 0.5\n",
    "while (people > 0):\n",
    "    prop_bds = birthday_sim(people)\n",
    "    if prop_bds > 0.5: \n",
    "        break\n",
    "    people += 1\n",
    "\n",
    "print(\"With {} people, there's a 50% chance that two share a birthday.\".format(people))"
   ]
  },
  {
   "cell_type": "code",
   "execution_count": 221,
   "metadata": {},
   "outputs": [
    {
     "name": "stdout",
     "output_type": "stream",
     "text": [
      "Probability of seeing a full house = 0.00134\n"
     ]
    }
   ],
   "source": [
    "#Shuffle deck & count card occurrences in the hand\n",
    "n_sims, full_house, deck_of_cards = 50000, 0, deck_of_cards.copy() \n",
    "for i in range(n_sims):\n",
    "    np.random.shuffle(deck_of_cards)\n",
    "    hand, cards_in_hand = deck_of_cards[0:5], {}\n",
    "    for card in hand:\n",
    "        # Use .get() method to count occurrences of each card\n",
    "        cards_in_hand[card[1]] = cards_in_hand.get(card[1], 0) + 1\n",
    "        \n",
    "    # Condition for getting full house\n",
    "    condition = (max(cards_in_hand.values()) ==3) & (min(cards_in_hand.values())==2)\n",
    "    if condition: \n",
    "        full_house += 1\n",
    "print(\"Probability of seeing a full house = {}\".format(full_house/n_sims))"
   ]
  },
  {
   "attachments": {},
   "cell_type": "markdown",
   "metadata": {},
   "source": [
    "### DGP and Simulation \n",
    "\n",
    "A data generating process (DGP) is a model that describes how data is generated. It is a model that describes the relationship between the variables in a dataset. The DGP is the foundation of statistical inference. The below example is for cricket match between England and Pakistan"
   ]
  },
  {
   "cell_type": "code",
   "execution_count": 228,
   "metadata": {},
   "outputs": [
    {
     "name": "stdout",
     "output_type": "stream",
     "text": [
      "Probability of Passing the driving test = 0.652\n"
     ]
    }
   ],
   "source": [
    "sims, outcomes, p_rain, p_pass = 1000, [], 0.40, {'sun':0.9, 'rain':0.3}\n",
    "\n",
    "def test_outcome(p_rain):\n",
    "    # Simulate whether it will rain or not\n",
    "    weather = np.random.choice(['rain', 'sun'], p=[p_rain, 1-p_rain])\n",
    "    # Simulate and return whether you will pass or fail\n",
    "    test_result = np.random.choice(['pass', 'fail'], p=[p_pass[weather], 1-p_pass[weather]])\n",
    "    return test_result\n",
    "\n",
    "for _ in range(sims):\n",
    "    outcomes.append(test_outcome(p_rain))\n",
    "\n",
    "# Calculate fraction of outcomes where you pass\n",
    "pass_fraction = outcomes.count('pass')/len(outcomes)\n",
    "print(\"Probability of Passing the driving test = {}\".format(pass_fraction))"
   ]
  }
 ],
 "metadata": {
  "kernelspec": {
   "display_name": "base",
   "language": "python",
   "name": "python3"
  },
  "language_info": {
   "codemirror_mode": {
    "name": "ipython",
    "version": 3
   },
   "file_extension": ".py",
   "mimetype": "text/x-python",
   "name": "python",
   "nbconvert_exporter": "python",
   "pygments_lexer": "ipython3",
   "version": "3.9.16"
  },
  "orig_nbformat": 4
 },
 "nbformat": 4,
 "nbformat_minor": 2
}
