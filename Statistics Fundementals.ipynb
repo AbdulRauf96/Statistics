{
 "cells": [
  {
   "cell_type": "markdown",
   "metadata": {},
   "source": [
    "# Statistics Core Concepts \n",
    "\n",
    "This notebook is for a revision of key statistical concepts such as summary statistics, random numbers and probability, More Distributions, the Central Limit Theorem, Correlation and Experimental Design"
   ]
  },
  {
   "cell_type": "markdown",
   "metadata": {},
   "source": [
    "## Importing Libraries and Data "
   ]
  },
  {
   "cell_type": "code",
   "execution_count": 97,
   "metadata": {},
   "outputs": [],
   "source": [
    "# Import libraries\n",
    "import numpy as np\n",
    "import pandas as pd\n",
    "from pathlib import Path\n",
    "import matplotlib.pyplot as plt\n",
    "import seaborn as sns \n",
    "from scipy.stats import uniform # Import uniform from scipy.stats\n",
    "from scipy.stats import binom #import binom from scipy.stats\n",
    "from scipy.stats import norm #import normal distribution\n",
    "from scipy.stats import poisson #import poisson distribution \n",
    "from scipy.stats import expon #import exponential distribution\n",
    "from scipy.stats import bernoulli #import bernoulli distribution\n",
    "from scipy.stats import describe #import describe from scipy.stats\n",
    "from scipy.stats import find_repeats, relfreq #import find_repeats and relfreq from scipy.stats\n",
    "from scipy.stats import geom #import geometric distribution\n",
    "\n",
    "data = Path('C:/Users/abdul/OneDrive/Documents/MSBA/data_sets')\n",
    "food_consumption = pd.read_csv(data/'food_consumption.csv',index_col=0)\n",
    "amir_deals = pd.read_csv(data/'amir_deals.csv',index_col=0)\n",
    "world_happiness = pd.read_csv(data/'world_happiness.csv',index_col=0)"
   ]
  },
  {
   "cell_type": "markdown",
   "metadata": {},
   "source": [
    "## Summary Statistics "
   ]
  },
  {
   "cell_type": "markdown",
   "metadata": {},
   "source": [
    "Summary statistics are a way of summarising a set of data. They are useful for getting a quick overview of a set of data. They are also useful for comparing sets of data."
   ]
  },
  {
   "cell_type": "markdown",
   "metadata": {},
   "source": [
    "### Measures of Center "
   ]
  },
  {
   "cell_type": "markdown",
   "metadata": {},
   "source": [
    "Measures of Center are used to describe the central tendency of a distribution. The three most common measures of center are the mean, median, and mode. The mean is the average of a distribution, the median is the middle value of a distribution, and the mode is the most common value of a distribution. The mean is the most commonly used measure of center, but it is not always the best measure of center. The median is a better measure of center when there are outliers in the data. The mode is a better measure of center when the data is categorical."
   ]
  },
  {
   "cell_type": "code",
   "execution_count": 98,
   "metadata": {},
   "outputs": [
    {
     "data": {
      "text/html": [
       "<div>\n",
       "<style scoped>\n",
       "    .dataframe tbody tr th:only-of-type {\n",
       "        vertical-align: middle;\n",
       "    }\n",
       "\n",
       "    .dataframe tbody tr th {\n",
       "        vertical-align: top;\n",
       "    }\n",
       "\n",
       "    .dataframe thead th {\n",
       "        text-align: right;\n",
       "    }\n",
       "</style>\n",
       "<table border=\"1\" class=\"dataframe\">\n",
       "  <thead>\n",
       "    <tr style=\"text-align: right;\">\n",
       "      <th></th>\n",
       "      <th>mean</th>\n",
       "      <th>median</th>\n",
       "    </tr>\n",
       "    <tr>\n",
       "      <th>country</th>\n",
       "      <th></th>\n",
       "      <th></th>\n",
       "    </tr>\n",
       "  </thead>\n",
       "  <tbody>\n",
       "    <tr>\n",
       "      <th>Belgium</th>\n",
       "      <td>42.132727</td>\n",
       "      <td>12.59</td>\n",
       "    </tr>\n",
       "    <tr>\n",
       "      <th>USA</th>\n",
       "      <td>44.650000</td>\n",
       "      <td>14.58</td>\n",
       "    </tr>\n",
       "  </tbody>\n",
       "</table>\n",
       "</div>"
      ],
      "text/plain": [
       "              mean  median\n",
       "country                   \n",
       "Belgium  42.132727   12.59\n",
       "USA      44.650000   14.58"
      ]
     },
     "execution_count": 98,
     "metadata": {},
     "output_type": "execute_result"
    }
   ],
   "source": [
    "usa_be_consumption = food_consumption[(food_consumption['country'] == 'USA') | (food_consumption['country'] == 'Belgium')]\n",
    "usa_be_consumption.groupby('country')['consumption'].agg(['mean','median'])"
   ]
  },
  {
   "cell_type": "code",
   "execution_count": 99,
   "metadata": {},
   "outputs": [
    {
     "name": "stdout",
     "output_type": "stream",
     "text": [
      "mean      37.591615\n",
      "median    15.200000\n",
      "Name: co2_emission, dtype: float64\n"
     ]
    },
    {
     "data": {
      "image/png": "[encoded data removed]",
      "text/plain": [
       "<Figure size 640x480 with 1 Axes>"
      ]
     },
     "metadata": {},
     "output_type": "display_data"
    }
   ],
   "source": [
    "# Subset for food_category equals rice\n",
    "rice_consumption = food_consumption[food_consumption.food_category == 'rice']\n",
    "print(rice_consumption['co2_emission'].agg(['mean','median']))\n",
    "\n",
    "# Histogram of co2_emission for rice and show plot\n",
    "plt.hist(rice_consumption.co2_emission)\n",
    "plt.title('CO2 Emissions')\n",
    "plt.show()"
   ]
  },
  {
   "cell_type": "markdown",
   "metadata": {},
   "source": [
    "### Measures of Spread "
   ]
  },
  {
   "cell_type": "markdown",
   "metadata": {},
   "source": [
    "Measure of spread are important in understanding the variability of a distribution. The three most common measures of spread are the range, interquartile range, and standard deviation. The range is the difference between the largest and smallest values in a distribution. The interquartile range is the difference between the 75th percentile and the 25th percentile of a distribution. The standard deviation is a measure of how spread out the values in a distribution are. The standard deviation is the square root of the variance. The variance is the average of the squared differences between each value and the mean of the distribution. The standard deviation is the most commonly used measure of spread, but it is not always the best measure of spread. The interquartile range is a better measure of spread when there are outliers in the data."
   ]
  },
  {
   "cell_type": "code",
   "execution_count": 100,
   "metadata": {},
   "outputs": [
    {
     "name": "stdout",
     "output_type": "stream",
     "text": [
      "[   0.        5.21     16.53     62.5975 1712.    ]\n",
      "[   0.       3.54    11.026   25.59    99.978 1712.   ]\n",
      "[0.00000e+00 6.68000e-01 3.54000e+00 7.04000e+00 1.10260e+01 1.65300e+01\n",
      " 2.55900e+01 4.42710e+01 9.99780e+01 2.03629e+02 1.71200e+03]\n"
     ]
    }
   ],
   "source": [
    "# Calculate the quartiles of co2_emission\n",
    "print(np.quantile(food_consumption.co2_emission, [0,0.25,0.5,0.75,1]))\n",
    "# Calculate the quintiles of co2_emission\n",
    "print(np.quantile(food_consumption.co2_emission, [0,0.20,0.4,0.6,0.8,1]))\n",
    "# Calculate the deciles of co2_emission\n",
    "print(np.quantile(food_consumption.co2_emission, [0, 0.1, 0.2, 0.3, 0.4, 0.5, 0.6, 0.7, 0.8, 0.9, 1]))"
   ]
  },
  {
   "cell_type": "code",
   "execution_count": 101,
   "metadata": {},
   "outputs": [
    {
     "name": "stdout",
     "output_type": "stream",
     "text": [
      "                        var         std\n",
      "food_category                          \n",
      "beef           88748.408132  297.906710\n",
      "dairy          17671.891985  132.935669\n",
      "eggs              21.371819    4.622966\n",
      "fish             921.637349   30.358481\n",
      "lamb_goat      16475.518363  128.356996\n",
      "nuts              35.639652    5.969895\n",
      "pork            3094.963537   55.632396\n",
      "poultry          245.026801   15.653332\n",
      "rice            2281.376243   47.763754\n",
      "soybeans           0.879882    0.938020\n",
      "wheat             71.023937    8.427570\n"
     ]
    },
    {
     "data": {
      "image/png": "[encoded data removed]",
      "text/plain": [
       "<Figure size 640x480 with 1 Axes>"
      ]
     },
     "metadata": {},
     "output_type": "display_data"
    },
    {
     "data": {
      "image/png": "[encoded data removed]",
      "text/plain": [
       "<Figure size 640x480 with 1 Axes>"
      ]
     },
     "metadata": {},
     "output_type": "display_data"
    }
   ],
   "source": [
    "# Print variance and sd of co2_emission for each food_category\n",
    "print(food_consumption.groupby('food_category')['co2_emission'].agg(['var','std']))\n",
    "# Create histogram of co2_emission for food_category 'beef'\n",
    "plt.hist(food_consumption[food_consumption.food_category == 'beef'].co2_emission)\n",
    "plt.xlabel('CO2 Emission')\n",
    "plt.ylabel('Frequency')\n",
    "plt.title('CO2 Emission for Beef')\n",
    "plt.show()\n",
    "# Create histogram of co2_emission for food_category 'eggs'\n",
    "plt.hist(food_consumption[food_consumption.food_category == 'eggs'].co2_emission)\n",
    "plt.xlabel('CO2 Emission')\n",
    "plt.ylabel('Frequency')\n",
    "plt.title('CO2 Emission for Eggs')\n",
    "# Show plot\n",
    "plt.show()"
   ]
  },
  {
   "cell_type": "code",
   "execution_count": 102,
   "metadata": {},
   "outputs": [
    {
     "name": "stdout",
     "output_type": "stream",
     "text": [
      "country\n",
      "Argentina    2172.4\n",
      "Name: co2_emission, dtype: float64\n"
     ]
    }
   ],
   "source": [
    "# Calculate total co2_emission per country: emissions_by_country\n",
    "emissions_by_country = food_consumption.groupby('country')['co2_emission'].sum()\n",
    "\n",
    "# Compute the first and third quantiles and IQR of emissions_by_country\n",
    "q1 = np.quantile(emissions_by_country, 0.25)\n",
    "q3 = np.quantile(emissions_by_country, 0.75)\n",
    "iqr = q3 - q1\n",
    "\n",
    "# Calculate the lower and upper cutoffs for outliers\n",
    "lower = q1 - 1.5 * iqr\n",
    "upper = q3 + 1.5 * iqr\n",
    "\n",
    "# Subset emissions_by_country to find outliers\n",
    "outliers = emissions_by_country[(emissions_by_country < lower) | (emissions_by_country > upper)]\n",
    "print(outliers)"
   ]
  },
  {
   "cell_type": "markdown",
   "metadata": {},
   "source": [
    "## Probability \n"
   ]
  },
  {
   "cell_type": "markdown",
   "metadata": {},
   "source": [
    "Probability is the likelihood that an event will occur. The probability of an event is a number between 0 and 1. The probability of an event is the number of ways that the event can occur divided by the total number of possible outcomes. The probability of an event is the complement of the probability of the event not occurring. The probability of an event is the sum of the probabilities of all the events that are mutually exclusive and exhaustive. The probability of an event is the product of the probabilities of all the events that are independent.\n"
   ]
  },
  {
   "cell_type": "code",
   "execution_count": 103,
   "metadata": {},
   "outputs": [
    {
     "name": "stdout",
     "output_type": "stream",
     "text": [
      "[0]\n",
      "5\n",
      "5\n"
     ]
    }
   ],
   "source": [
    "# Simulate one coin flip with 35% chance of getting heads\n",
    "coin_flip = bernoulli.rvs(p=0.35, size=1)\n",
    "print(coin_flip)\n",
    "\n",
    "# Simulate ten coin flips and get the number of heads\n",
    "ten_coin_flips = bernoulli.rvs(p=0.35, size=10)\n",
    "coin_flips_sum = sum(ten_coin_flips)\n",
    "print(coin_flips_sum)\n",
    "\n",
    "# Simulate ten coin flips and get the number of heads\n",
    "five_coin_flips = bernoulli.rvs(p=0.5, size=10)\n",
    "coin_flips_sum = sum(five_coin_flips)\n",
    "print(coin_flips_sum)"
   ]
  },
  {
   "cell_type": "code",
   "execution_count": 104,
   "metadata": {},
   "outputs": [
    {
     "name": "stdout",
     "output_type": "stream",
     "text": [
      "product\n",
      "Product B    62\n",
      "Product D    40\n",
      "Product A    23\n",
      "Product C    15\n",
      "Product F    11\n",
      "Product H     8\n",
      "Product I     7\n",
      "Product E     5\n",
      "Product N     3\n",
      "Product G     2\n",
      "Product J     2\n",
      "Name: count, dtype: int64 \n",
      "\n",
      "product\n",
      "Product B    34.83\n",
      "Product D    22.47\n",
      "Product A    12.92\n",
      "Product C     8.43\n",
      "Product F     6.18\n",
      "Product H     4.49\n",
      "Product I     3.93\n",
      "Product E     2.81\n",
      "Product N     1.69\n",
      "Product G     1.12\n",
      "Product J     1.12\n",
      "Name: count, dtype: float64\n"
     ]
    }
   ],
   "source": [
    "# Count the deals for each product\n",
    "counts = amir_deals['product'].value_counts()\n",
    "print(counts,'\\n')\n",
    "\n",
    "# Calculate probability of picking a deal with each product\n",
    "probs = round((counts / len(amir_deals)) * 100, 2)\n",
    "print(probs)"
   ]
  },
  {
   "cell_type": "code",
   "execution_count": 105,
   "metadata": {},
   "outputs": [
    {
     "name": "stdout",
     "output_type": "stream",
     "text": [
      "       product   client status   amount  num_users\n",
      "163  Product D  Current    Won  6755.66         59\n",
      "132  Product B  Current    Won  6872.29         25\n",
      "88   Product C  Current    Won  3579.63          3\n",
      "146  Product A  Current    Won  4682.94         63\n",
      "146  Product A  Current    Won  4682.94         63\n"
     ]
    }
   ],
   "source": [
    "# Set random seed\n",
    "np.random.seed(24)  \n",
    "\n",
    "# Sample 5 deals with replacement it is set to take sample without replacement by default\n",
    "sample_without_replacement = amir_deals.sample(5, replace=True)\n",
    "print(sample_without_replacement)"
   ]
  },
  {
   "cell_type": "code",
   "execution_count": 106,
   "metadata": {},
   "outputs": [
    {
     "name": "stdout",
     "output_type": "stream",
     "text": [
      "0.257\n"
     ]
    }
   ],
   "source": [
    "# Create sample of 1000 flips\n",
    "sample_of_two_coin_flips = binom.rvs(n=2, p=0.5, size=1000)\n",
    "\n",
    "# Count how many times you got 2 heads from the sample data\n",
    "count_2_heads = find_repeats(sample_of_two_coin_flips).counts[2]\n",
    "\n",
    "# Divide the number of heads by the total number of draws\n",
    "prob_2_heads = count_2_heads / 1000\n",
    "\n",
    "# Display the result\n",
    "print(prob_2_heads)"
   ]
  },
  {
   "cell_type": "code",
   "execution_count": 107,
   "metadata": {},
   "outputs": [
    {
     "name": "stdout",
     "output_type": "stream",
     "text": [
      "[0.232 0.511 0.257]\n"
     ]
    }
   ],
   "source": [
    "# Get the relative frequency from sample_of_two_coin_flips\n",
    "# Set numbins as 3\n",
    "# Extract frequency\n",
    "rel_freq = relfreq(sample_of_two_coin_flips, numbins=3).frequency\n",
    "print(rel_freq)"
   ]
  },
  {
   "cell_type": "code",
   "execution_count": 108,
   "metadata": {},
   "outputs": [
    {
     "name": "stdout",
     "output_type": "stream",
     "text": [
      "[0.25 0.5  0.25]\n"
     ]
    }
   ],
   "source": [
    "# Probability of getting 0, 1, or 2 from the distribution\n",
    "probabilities = binom.pmf([0, 1, 2], n=2, p=0.5)\n",
    "print(probabilities)"
   ]
  },
  {
   "cell_type": "markdown",
   "metadata": {},
   "source": [
    "Take the values from the table, create variables, and calculate the probability of the event in each step.\n",
    "\n",
    "![](https://assets.datacamp.com/production/repositories/3819/datasets/cee10abf503db19eb82cf5eb1cda124ed1337b3a/Datacamp-Slides-Ex.png)"
   ]
  },
  {
   "cell_type": "code",
   "execution_count": 109,
   "metadata": {},
   "outputs": [
    {
     "name": "stdout",
     "output_type": "stream",
     "text": [
      "0.98505\n"
     ]
    }
   ],
   "source": [
    "# Individual probabilities\n",
    "P_Eng_works = 0.99\n",
    "P_GearB_works = 0.995\n",
    "\n",
    "# Joint probability calculation\n",
    "P_both_works = P_Eng_works * P_GearB_works\n",
    "\n",
    "print(P_both_works)"
   ]
  },
  {
   "cell_type": "code",
   "execution_count": 110,
   "metadata": {},
   "outputs": [
    {
     "name": "stdout",
     "output_type": "stream",
     "text": [
      "0.0149\n"
     ]
    }
   ],
   "source": [
    "# Individual probabilities\n",
    "P_Eng_fails = 0.01\n",
    "P_Eng_works = 0.99\n",
    "P_GearB_fails = 0.005\n",
    "P_GearB_works = 0.995\n",
    "\n",
    "# Joint probability calculation\n",
    "P_only_GearB_fails = P_GearB_fails * P_Eng_works\n",
    "P_only_Eng_fails = P_Eng_fails * P_GearB_works\n",
    "\n",
    "# Calculate result\n",
    "P_one_fails = P_only_GearB_fails + P_only_Eng_fails\n",
    "\n",
    "print(P_one_fails)"
   ]
  },
  {
   "cell_type": "code",
   "execution_count": 111,
   "metadata": {},
   "outputs": [
    {
     "name": "stdout",
     "output_type": "stream",
     "text": [
      "0.9851\n"
     ]
    }
   ],
   "source": [
    "# Individual probabilities\n",
    "P_Eng_fails = 0.01\n",
    "P_Eng_works = 0.99\n",
    "P_GearB_fails = 0.005\n",
    "P_GearB_works = 0.995\n",
    "\n",
    "# Joint probability calculation\n",
    "P_EngW_GearBW = P_GearB_works * P_Eng_works\n",
    "P_EngF_GearBF = P_Eng_fails * P_GearB_fails\n",
    "\n",
    "# Calculate result\n",
    "P_fails_or_works = P_EngW_GearBW + P_EngF_GearBF\n",
    "\n",
    "print(P_fails_or_works)"
   ]
  },
  {
   "cell_type": "markdown",
   "metadata": {},
   "source": [
    "#### Working with Probabilities in Cards "
   ]
  },
  {
   "cell_type": "markdown",
   "metadata": {},
   "source": [
    "![](https://assets.datacamp.com/production/repositories/3819/datasets/8058ee2cc91dd029518cd28ac1f42ae75408f5cd/cards.png)"
   ]
  },
  {
   "cell_type": "code",
   "execution_count": 112,
   "metadata": {},
   "outputs": [
    {
     "name": "stdout",
     "output_type": "stream",
     "text": [
      "Probability of drawing an Ace: 0.07692307692307693\n",
      "Probability of not drawing an Ace: 0.9230769230769231\n"
     ]
    }
   ],
   "source": [
    "# Ace probability\n",
    "P_Ace = 4/52\n",
    "\n",
    "# Not Ace probability\n",
    "P_not_Ace = 1 - P_Ace\n",
    "\n",
    "print(f'Probability of drawing an Ace: {P_Ace}')\n",
    "print(f'Probability of not drawing an Ace: {P_not_Ace}')"
   ]
  },
  {
   "cell_type": "code",
   "execution_count": 113,
   "metadata": {},
   "outputs": [
    {
     "name": "stdout",
     "output_type": "stream",
     "text": [
      "Probability of drawing a red card: 0.5\n",
      "Probability of drawing a black card: 0.5\n"
     ]
    }
   ],
   "source": [
    "# Figure probabilities\n",
    "P_Hearts = 13/52\n",
    "P_Diamonds = 13/52\n",
    "\n",
    "# Probability of red calculation\n",
    "P_Red = P_Hearts + P_Diamonds\n",
    "\n",
    "print(f'Probability of drawing a red card: {P_Red}')\n",
    "print(f'Probability of drawing a black card: {1 - P_Red}')"
   ]
  },
  {
   "cell_type": "code",
   "execution_count": 114,
   "metadata": {},
   "outputs": [
    {
     "name": "stdout",
     "output_type": "stream",
     "text": [
      "Probability of drawing a Jack or a Spade: 0.3076923076923077\n",
      "Probability of drawing a Jack and a Spade: 0.019230769230769232\n"
     ]
    }
   ],
   "source": [
    "# Figure probabilities\n",
    "P_Jack = 4/52\n",
    "P_Spade = 13/52\n",
    "\n",
    "# Joint probability\n",
    "P_Jack_n_Spade = 1/52\n",
    "\n",
    "# Probability of Jack or spade\n",
    "P_Jack_or_Spade = P_Jack + P_Spade - P_Jack_n_Spade\n",
    "\n",
    "print(f'Probability of drawing a Jack or a Spade: {P_Jack_or_Spade}')\n",
    "print(f'Probability of drawing a Jack and a Spade: {P_Jack_n_Spade}')"
   ]
  },
  {
   "cell_type": "code",
   "execution_count": 115,
   "metadata": {},
   "outputs": [
    {
     "name": "stdout",
     "output_type": "stream",
     "text": [
      "Probability of drawing a King or a Queen: 0.15384615384615385\n",
      "Probability of drawing a King and a Queen: 0\n"
     ]
    }
   ],
   "source": [
    "# Figure probabilities\n",
    "P_King = 4/52\n",
    "P_Queen = 4/52\n",
    "\n",
    "# Joint probability\n",
    "P_King_n_Queen = 0\n",
    "\n",
    "# Probability of King or Queen\n",
    "P_King_or_Queen = P_King + P_Queen - P_King_n_Queen\n",
    "\n",
    "print(f'Probability of drawing a King or a Queen: {P_King_or_Queen}')\n",
    "print(f'Probability of drawing a King and a Queen: {P_King_n_Queen}')"
   ]
  },
  {
   "cell_type": "code",
   "execution_count": 116,
   "metadata": {},
   "outputs": [
    {
     "name": "stdout",
     "output_type": "stream",
     "text": [
      "Probability of drawing two Jacks: 0.004524886877828055\n",
      "Probability of drawing an Ace given that it is a Spade: 0.07692307692307693\n",
      "Probability of drawing a Queen given that it is a Face card: 0.3333333333333333\n"
     ]
    }
   ],
   "source": [
    "# Calculate the probability of getting two Jacks (P(Jack and Jack))\n",
    "P_first_Jack = 4/52\n",
    "P_Jack_given_Jack = 3/51\n",
    "\n",
    "# Joint probability calculation\n",
    "P_two_Jacks = P_Jack_given_Jack * P_first_Jack\n",
    "\n",
    "print(f'Probability of drawing two Jacks: {P_two_Jacks}')\n",
    "\n",
    "# Calculate P(Ace|Spade).\n",
    "P_Spade = 13/52\n",
    "P_Spade_n_Ace = 1/52\n",
    "\n",
    "# Conditional probability calculation\n",
    "P_Ace_given_Spade = P_Spade_n_Ace / P_Spade\n",
    "\n",
    "print(f'Probability of drawing an Ace given that it is a Spade: {P_Ace_given_Spade}')\n",
    "\n",
    "# Calculate P(Queen|Face card).\n",
    "P_Face_card = 12/52\n",
    "P_Face_card_n_Queen = 4/52\n",
    "\n",
    "# Conditional probability calculation\n",
    "P_Queen_given_Face = P_Face_card_n_Queen / P_Face_card\n",
    "\n",
    "print(f'Probability of drawing a Queen given that it is a Face card: {P_Queen_given_Face}')"
   ]
  },
  {
   "cell_type": "markdown",
   "metadata": {},
   "source": [
    "The following table shows the numbers of red and black cards in a deck that are Aces and non-Aces:\n",
    "\n",
    "| |Red|Black|Total|\n",
    "|:-|:-|:-|:-|\n",
    "|Ace|2|2|4|\n",
    "|Non-Ace|24|24|48|\n",
    "|Total|26|26|52|\n",
    "\n",
    "The total in the Red column is 26, which means there are 26 red cards in the deck. Of these, 2 are Aces and 24 are non-Aces. There are 52 cards in a deck. Use the values in the table to calculate some conditional probabilities."
   ]
  },
  {
   "cell_type": "code",
   "execution_count": 117,
   "metadata": {},
   "outputs": [
    {
     "name": "stdout",
     "output_type": "stream",
     "text": [
      "Probability of drawing an Ace given that the card is red: 0.07692307692307693\n",
      "Probability of drawing a black card given that the card is an Ace: 0.5\n",
      "Probability of drawing a non Ace given that the card is black: 0.9230769230769231\n",
      "Probability of drawing a red card given that the card is not an Ace: 0.5\n"
     ]
    }
   ],
   "source": [
    "# Calculate P(Ace|Red)\n",
    "P_Red = 26/52\n",
    "P_Red_n_Ace = 2/52\n",
    "\n",
    "# Conditional probability calculation\n",
    "P_Ace_given_Red = P_Red_n_Ace / P_Red\n",
    "\n",
    "print(f'Probability of drawing an Ace given that the card is red: {P_Ace_given_Red}')\n",
    "\n",
    "# Calculate P(Black|Ace)\n",
    "P_Ace = 4/52\n",
    "P_Ace_n_Black = 2/52\n",
    "\n",
    "# Conditional probability calculation\n",
    "P_Black_given_Ace = P_Ace_n_Black / P_Ace\n",
    "\n",
    "print(f'Probability of drawing a black card given that the card is an Ace: {P_Black_given_Ace}')\n",
    "\n",
    "# Calculate P(Non Ace|Black)\n",
    "# Individual probabilities\n",
    "P_Black = 26/52\n",
    "P_Black_n_Non_ace = 24/52\n",
    "\n",
    "# Conditional probability calculation\n",
    "P_Non_ace_given_Black = P_Black_n_Non_ace / P_Black\n",
    "\n",
    "print(f'Probability of drawing a non Ace given that the card is black: {P_Non_ace_given_Black}')\n",
    "\n",
    "# Calculate P(Red|Non Ace)\n",
    "\n",
    "# Individual probabilities\n",
    "P_Non_ace = 48/52\n",
    "P_Non_ace_n_Red = 24/52\n",
    "\n",
    "# Conditional probability calculation\n",
    "P_Red_given_Non_ace = P_Non_ace_n_Red / P_Non_ace\n",
    "\n",
    "print(f'Probability of drawing a red card given that the card is not an Ace: {P_Red_given_Non_ace}')"
   ]
  },
  {
   "cell_type": "markdown",
   "metadata": {},
   "source": [
    "#### Some other examples of probability "
   ]
  },
  {
   "cell_type": "markdown",
   "metadata": {},
   "source": [
    "A certain airline offers flights departing to New York on Tuesdays and Fridays, but sometimes the flights are delayed:\n",
    "| |Delayed|On Time|Total|\n",
    "|:-|:-|:-|:-|\n",
    "|Tuesday|24|114|138|\n",
    "|Friday|11|127|138|\n",
    "|Total|35|241|276|\n",
    "\n",
    "At the bottom of the Delayed column you have a total of 35, which means there were 35 delayed flights out of the total of 276 departures in the sample. Of these, 24 were on Tuesday and 11 on Friday."
   ]
  },
  {
   "cell_type": "code",
   "execution_count": 118,
   "metadata": {},
   "outputs": [
    {
     "name": "stdout",
     "output_type": "stream",
     "text": [
      "Probability of a flight being on time: 0.8731884057971014\n",
      "Probability of a flight being delayed: 0.12681159420289856\n",
      "Probability of a flight being delayed on Tuesday: 0.17391304347826086\n",
      "Probability of a flight being delayed on Friday: 0.07971014492753623\n"
     ]
    }
   ],
   "source": [
    "# What is the probability of a flight being on time?\n",
    "# Needed quantities\n",
    "On_time = 241\n",
    "Total_departures = 276\n",
    "\n",
    "# Probability calculation\n",
    "P_On_time = On_time / Total_departures\n",
    "\n",
    "print(f'Probability of a flight being on time: {P_On_time}')\n",
    "\n",
    "# Probability calculation\n",
    "P_Delayed = 1 - P_On_time\n",
    "\n",
    "print(f'Probability of a flight being delayed: {P_Delayed}')\n",
    "\n",
    "# Given that it's Tuesday, what is the probability of a flight being delayed (P(Delayed|Tuesday))?\n",
    "Delayed_on_Tuesday = 24\n",
    "On_Tuesday = 138\n",
    "\n",
    "# Probability calculation\n",
    "P_Delayed_g_Tuesday = Delayed_on_Tuesday / On_Tuesday\n",
    "\n",
    "print(f'Probability of a flight being delayed on Tuesday: {P_Delayed_g_Tuesday}')\n",
    "\n",
    "# Given that it's Friday, what is the probability of a flight being delayed (P(Delayed|Friday))?\n",
    "Delayed_on_Friday = 11\n",
    "On_Friday = 138\n",
    "\n",
    "# Probability calculation\n",
    "P_Delayed_g_Friday = Delayed_on_Friday / On_Friday\n",
    "\n",
    "print(f'Probability of a flight being delayed on Friday: {P_Delayed_g_Friday}')"
   ]
  },
  {
   "cell_type": "markdown",
   "metadata": {},
   "source": [
    "#### Total probability law "
   ]
  },
  {
   "cell_type": "markdown",
   "metadata": {},
   "source": [
    "Suppose that two manufacturers, A and B, supply the engines for Formula 1 racing cars, with the following characteristics:\n",
    "\n",
    "* 99% of the engines from factory A last more than 5,000 km.\n",
    "* Factory B manufactures engines that last more than 5,000 km with 95% probability.\n",
    "* 70% of the engines are from manufacturer A, and the rest are produced by manufacturer B. </br></br>\n",
    "What is the chance that an engine will last more than 5,000 km?"
   ]
  },
  {
   "cell_type": "code",
   "execution_count": 119,
   "metadata": {},
   "outputs": [
    {
     "name": "stdout",
     "output_type": "stream",
     "text": [
      "Probability that car lasts 5000 miles: 0.915\n"
     ]
    }
   ],
   "source": [
    "# The manufacturer is A (P_A)\n",
    "# Needed probabilities\n",
    "P_A = 0.7\n",
    "P_last5000_g_A = 0.9\n",
    "P_B = 0.3\n",
    "P_last5000_g_B = 0.95\n",
    "\n",
    "# Total probability calculation\n",
    "P_last_5000 = P_last5000_g_A * P_A + P_last5000_g_B * P_B\n",
    "\n",
    "print(f'Probability that car lasts 5000 miles: {P_last_5000}')"
   ]
  },
  {
   "cell_type": "markdown",
   "metadata": {},
   "source": [
    "Of the total population of three states X, Y, and Z, 43% are from state X, 25% are from state Y, and 32% are from state Z. A poll is taken and the result is the following:\n",
    "\n",
    "* 53% of the voters support John Doe in state X.\n",
    "* 67% of the voters support John Doe in state Y.\n",
    "* 32% of the voters support John Doe in state Z.</br></br>\n",
    "Given that a voter supports John Doe, answer the following questions."
   ]
  },
  {
   "cell_type": "code",
   "execution_count": 120,
   "metadata": {},
   "outputs": [
    {
     "name": "stdout",
     "output_type": "stream",
     "text": [
      "Probability that the voter lives in state X and supports John Doe: 0.22790000000000002\n",
      "Probability that the voter lives in state Z and does not support John Doe: 0.2176\n",
      "Total percentage of voters that support John Doe: 0.4978\n"
     ]
    }
   ],
   "source": [
    "# What is the probability that the voter lives in state X and supports John Doe?\n",
    "P_X = 0.43\n",
    "\n",
    "# Conditional probabilities\n",
    "P_Support_g_X = 0.53\n",
    "\n",
    "# Total probability calculation\n",
    "P_X_n_Support = P_X * P_Support_g_X\n",
    "print(f'Probability that the voter lives in state X and supports John Doe: {P_X_n_Support}')\n",
    "\n",
    "# What is the probability that the voter lives in state Z and does not support John Doe?\n",
    "P_Z = 0.32\n",
    "\n",
    "P_Support_g_Z = 0.32\n",
    "P_Support_g_Z_not = 1 - P_Support_g_Z\n",
    "\n",
    "# Total probability calculation\n",
    "P_Z_n_Support_not = P_Z * P_Support_g_Z_not\n",
    "print(f'Probability that the voter lives in state Z and does not support John Doe: {P_Z_n_Support_not}')\n",
    "\n",
    "# What is the total percentage of voters that support John Doe?\n",
    "\n",
    "# Individual probabilities\n",
    "P_X = 0.43\n",
    "P_Y = 0.25\n",
    "P_Z = 0.32\n",
    "\n",
    "# Conditional probabilities\n",
    "P_Support_g_X = 0.53\n",
    "P_Support_g_Y = 0.67\n",
    "P_Support_g_Z = 0.32\n",
    "\n",
    "# Total probability calculation\n",
    "P_Support = P_Support_g_X * P_X + P_Support_g_Y * P_Y + P_Support_g_Z * P_Z\n",
    "print(f'Total percentage of voters that support John Doe: {P_Support}')"
   ]
  },
  {
   "cell_type": "markdown",
   "metadata": {},
   "source": [
    "#### Bayes' Rule "
   ]
  },
  {
   "cell_type": "markdown",
   "metadata": {},
   "source": [
    "Bayes' Rule refers to the probability of an event, based on prior knowledge of conditions that might be related to the event. \n",
    "\n",
    "The formula for Bayes' Rule is:\n",
    "\n",
    "$$P(A|B) = \\frac{P(B|A)P(A)}{P(B)}$$\n",
    "\n",
    "where $P(A|B)$ is the probability of event A given that event B has occurred, $P(B|A)$ is the probability of event B given that event A has occurred, $P(A)$ is the probability of event A, and $P(B)$ is the probability of event B."
   ]
  },
  {
   "cell_type": "markdown",
   "metadata": {},
   "source": [
    "<font size = 4>**Factories and parts** </font> </br></br>\n",
    "A certain electronic part is manufactured by three different vendors named V1, V2, and V3.\n",
    "\n",
    "Half of the parts are produced by V1, 25% by V2, and the rest by V3. The probability of a part being damaged given that it was produced by V1 is 1%, while it's 2% for V2 and 3% for V3.\n",
    "\n",
    "If a part taken at random is damaged, answer the following questions."
   ]
  },
  {
   "cell_type": "code",
   "execution_count": 121,
   "metadata": {},
   "outputs": [
    {
     "name": "stdout",
     "output_type": "stream",
     "text": [
      "Probability that the part was manufactured by V1: 0.2857142857142857\n"
     ]
    }
   ],
   "source": [
    "# What is the probability that the part was manufactured by V1?\n",
    "P_V1 = 0.5\n",
    "P_V2 = 0.25\n",
    "P_V3 = 0.25\n",
    "P_D_g_V1 = 0.01\n",
    "P_D_g_V2 = 0.02\n",
    "P_D_g_V3 = 0.03\n",
    "\n",
    "# Probability of Damaged\n",
    "P_Damaged = (P_V1 * P_D_g_V1) + (P_V2 * P_D_g_V2) + (P_V3 * P_D_g_V3)\n",
    "\n",
    "# Bayes' rule for P(V1|D)\n",
    "P_V1_g_D = (P_D_g_V1 * P_V1) / P_Damaged\n",
    "\n",
    "\n",
    "print(f'Probability that the part was manufactured by V1: {P_V1_g_D}')"
   ]
  },
  {
   "cell_type": "code",
   "execution_count": 122,
   "metadata": {},
   "outputs": [
    {
     "name": "stdout",
     "output_type": "stream",
     "text": [
      "Probability that the part was manufactured by V2: 0.4285714285714285\n"
     ]
    }
   ],
   "source": [
    "# What is the probability that it was manufactured by V2?\n",
    "P_V1 = 0.5\n",
    "P_V2 = 0.25\n",
    "P_V3 = 0.25\n",
    "P_D_g_V1 = 0.01\n",
    "P_D_g_V2 = 0.02\n",
    "P_D_g_V3 = 0.03\n",
    "\n",
    "# Probability of Damaged\n",
    "P_Damaged = (P_V1 * P_D_g_V1) + (P_V2 * P_D_g_V2) + (P_V3 * P_D_g_V3)\n",
    "\n",
    "# Bayes' rule for P(V2|D)\n",
    "P_V2_g_D = (P_V3 * P_D_g_V3) / P_Damaged\n",
    "\n",
    "print(f'Probability that the part was manufactured by V2: {P_V2_g_D}')"
   ]
  },
  {
   "cell_type": "code",
   "execution_count": 123,
   "metadata": {},
   "outputs": [
    {
     "name": "stdout",
     "output_type": "stream",
     "text": [
      "Probability that the part was manufactured by V3: 0.4285714285714285\n"
     ]
    }
   ],
   "source": [
    "# What is the probability that the part was manufactured by V3?\n",
    "P_V1 = 0.5\n",
    "P_V2 = 0.25\n",
    "P_V3 = 0.25\n",
    "P_D_g_V1 = 0.01\n",
    "P_D_g_V2 = 0.02\n",
    "P_D_g_V3 = 0.03\n",
    "\n",
    "# Probability of Damaged\n",
    "P_Damaged = (P_V1 * P_D_g_V1) + (P_V2 * P_D_g_V2) + (P_V3 * P_D_g_V3)\n",
    "\n",
    "# Bayes' rule for P(V3|D)\n",
    "P_V3_g_D = (P_V3 * P_D_g_V3) / P_Damaged\n",
    "\n",
    "print(f'Probability that the part was manufactured by V3: {P_V3_g_D}')"
   ]
  },
  {
   "cell_type": "markdown",
   "metadata": {},
   "source": [
    "<font size = 4> **Swine flu blood test** </font></br> </br>\n",
    "You go to the doctor about a strong headache. The doctor randomly selects you for a blood test for swine flu, which is suspected to affect 1 in 9,000 people in your city. The accuracy of the test is 99%, meaning that the probability of a false positive is 1%. The probability of a false negative is zero.\n",
    "\n",
    "Given that you test positive, answer the following questions."
   ]
  },
  {
   "cell_type": "code",
   "execution_count": 124,
   "metadata": {},
   "outputs": [
    {
     "name": "stdout",
     "output_type": "stream",
     "text": [
      "Probability that you have swine flu given that your test outcome is positive: 0.010990218705352238\n"
     ]
    }
   ],
   "source": [
    "# What is the probability that you have swine flu given that your test outcome is positive?\n",
    "\n",
    "# Probability of having Swine_flu\n",
    "P_Swine_flu = 1./9000\n",
    "# Probability of not having Swine_flu\n",
    "P_no_Swine_flu = 1 - P_Swine_flu\n",
    "# Probability of being positive given that you have Swine_flu\n",
    "P_Positive_g_Swine_flu = 1\n",
    "# Probability of being positive given that you do not have Swine_flu\n",
    "P_Positive_g_no_Swine_flu = 0.01\n",
    "\n",
    "# Probability of Positive\n",
    "P_Positive = (P_Swine_flu * P_Positive_g_Swine_flu) + (P_no_Swine_flu * P_Positive_g_no_Swine_flu)\n",
    "\n",
    "# Bayes' rule for P(Swine_flu|Positive)\n",
    "P_Swine_flu_g_Positive = (P_Swine_flu * P_Positive_g_Swine_flu) / P_Positive\n",
    "\n",
    "print(f'Probability that you have swine flu given that your test outcome is positive: {P_Swine_flu_g_Positive}')"
   ]
  },
  {
   "cell_type": "code",
   "execution_count": 125,
   "metadata": {},
   "outputs": [
    {
     "name": "stdout",
     "output_type": "stream",
     "text": [
      "Probability that you have swine flu given that your test outcome is positive: 0.22271714922048996\n"
     ]
    }
   ],
   "source": [
    "# You went to Miami and 1 in 350 people came back with swine flu. Calculate the new probability that you'll test positive.\n",
    "\n",
    "# Individual probabilities & conditional probabilities\n",
    "P_Swine_flu = 1./350\n",
    "P_no_Swine_flu = 1 - P_Swine_flu\n",
    "P_Positive_g_Swine_flu = 1\n",
    "P_Positive_g_no_Swine_flu = 0.01\n",
    "\n",
    "# Probability of Positive\n",
    "P_Positive = (P_Swine_flu * P_Positive_g_Swine_flu) + (P_no_Swine_flu * P_Positive_g_no_Swine_flu)\n",
    "\n",
    "# Bayes' rule for P(Swine_flu|Positive)\n",
    "P_Swine_flu_g_Positive = (P_Positive_g_Swine_flu * P_Swine_flu) / P_Positive\n",
    "\n",
    "print(f'Probability that you have swine flu given that your test outcome is positive: {P_Swine_flu_g_Positive}')"
   ]
  },
  {
   "cell_type": "code",
   "execution_count": 126,
   "metadata": {},
   "outputs": [
    {
     "name": "stdout",
     "output_type": "stream",
     "text": [
      "Probability that you have swine flu given that your test outcome is positive: 0.12531328320802004\n"
     ]
    }
   ],
   "source": [
    "# If the probability of a false positive is 2%, what is the new probability that you have swine flu after your vacation?\n",
    "\n",
    "P_Swine_flu = 1./350\n",
    "P_no_Swine_flu = 1 - P_Swine_flu\n",
    "P_Positive_g_Swine_flu = 1\n",
    "P_Positive_g_no_Swine_flu = 0.02\n",
    "\n",
    "# Probability of Positive\n",
    "P_Positive = P_Swine_flu * P_Positive_g_Swine_flu + P_no_Swine_flu * P_Positive_g_no_Swine_flu\n",
    "\n",
    "# Bayes' rule for P(Swine_flu|Positive)\n",
    "P_Swine_flu_g_Positive = (P_Swine_flu * P_Positive_g_Swine_flu) / P_Positive\n",
    "\n",
    "print(f'Probability that you have swine flu given that your test outcome is positive: {P_Swine_flu_g_Positive}')"
   ]
  },
  {
   "cell_type": "markdown",
   "metadata": {},
   "source": [
    "## Discrete Distributions "
   ]
  },
  {
   "cell_type": "markdown",
   "metadata": {},
   "source": [
    "\n",
    "Discrete distributions are distributions where the possible values are countable. The most common discrete distributions are the binomial distribution, the geometric distribution, and the Poisson distribution."
   ]
  },
  {
   "cell_type": "code",
   "execution_count": 127,
   "metadata": {},
   "outputs": [
    {
     "data": {
      "image/png": "[encoded data removed]",
      "text/plain": [
       "<Figure size 640x480 with 1 Axes>"
      ]
     },
     "metadata": {},
     "output_type": "display_data"
    },
    {
     "name": "stdout",
     "output_type": "stream",
     "text": [
      "The probability of a group being 4 or more is 0.6769230769230767\n"
     ]
    }
   ],
   "source": [
    "# Here in this example we will create a distribution of the consumption column in food_consumption\n",
    "# Create a histogram of restaurant_groups and show plot\n",
    "food_consumption['consumption'].hist(bins = [2, 3, 4, 5, 6])\n",
    "plt.show()\n",
    "\n",
    "# Calculate the probability distribution of restaurant_groups\n",
    "size_dist = food_consumption['consumption'].value_counts() / len(food_consumption)\n",
    "size_dist = size_dist.sort_index(ascending=True)\n",
    "\n",
    "# Reset index and rename columns\n",
    "size_dist = size_dist.reset_index()\n",
    "size_dist.columns = ['group_size', 'prob']  \n",
    "\n",
    "# Expected value of restaurant_groups\n",
    "expected_value = np.sum(size_dist['group_size'] * size_dist['prob'])\n",
    "\n",
    "# Subset groups of size 4 or more\n",
    "groups_4_or_more = size_dist[size_dist['group_size'] >= 4]\n",
    "\n",
    "# Sum the probabilities of groups_4_or_more\n",
    "prob_4_or_more = np.sum(groups_4_or_more['prob'])\n",
    "print(f'The probability of a group being 4 or more is {prob_4_or_more}')"
   ]
  },
  {
   "cell_type": "markdown",
   "metadata": {},
   "source": [
    "###  Binomial Distribution "
   ]
  },
  {
   "cell_type": "markdown",
   "metadata": {},
   "source": [
    "Binomial Distribution - The binomial distribution is a discrete distribution that describes the probability of a certain number of successes in a sequence of independent experiments. The binomial distribution is parameterized by two values, n and p. n is the number of trials in the experiment, and p is the probability of success in each trial. The binomial distribution is defined by the following formula:\n",
    "\n",
    "$$P(X=k) = \\binom{n}{k}p^k(1-p)^{n-k}$$\n",
    "\n",
    "where k is the number of successes in the experiment."
   ]
  },
  {
   "cell_type": "code",
   "execution_count": 128,
   "metadata": {},
   "outputs": [
    {
     "name": "stdout",
     "output_type": "stream",
     "text": [
      "Mean of deals won per week: 0.8269230769230769 \n",
      "\n",
      "Probability of closing 3 out 3 deals per week: 0.027 \n",
      "\n",
      "Probability of closing 1 or less than one deal in a week: 0.784 \n",
      "\n",
      "Probability of closing more than 1 deal in a week: 0.21599999999999997\n",
      "Probability of closing more than 1 deal in a week: 0.21599999999999997\n"
     ]
    }
   ],
   "source": [
    "# Binomial Distribution\n",
    "np.random.seed(10)  \n",
    "\n",
    "# Simulate 52 weeks of 3 deals\n",
    "deals = binom.rvs(3, 0.3, size = 52)\n",
    "\n",
    "# Print mean deals won per week\n",
    "print(f'Mean of deals won per week: {np.mean(deals)}','\\n')\n",
    "\n",
    "# Probability of closing 3 out of 3 deals\n",
    "prob_3 = binom.pmf(3, 3, 0.3)\n",
    "print(f'Probability of closing 3 out 3 deals per week: {prob_3}','\\n')\n",
    "\n",
    "# Probability of closing <= 1 deal out of 3 deals\n",
    "prob_less_than_or_equal_1 = binom.cdf(1, 3, 0.3)\n",
    "\n",
    "print(f\"Probability of closing 1 or less than one deal in a week: {prob_less_than_or_equal_1}\",'\\n')\n",
    "\n",
    "# Probability of closing > 1 deal out of 3 deals\n",
    "prob_greater_than_1_cdf = 1 - binom.cdf(1, 3, 0.3)\n",
    "# or \n",
    "prob_greater_than_1_sf = binom.sf(1, 3, 0.3)\n",
    "\n",
    "print(f'Probability of closing more than 1 deal in a week: {prob_greater_than_1_cdf}')\n",
    "print(f'Probability of closing more than 1 deal in a week: {prob_greater_than_1_sf}')"
   ]
  },
  {
   "cell_type": "code",
   "execution_count": 129,
   "metadata": {},
   "outputs": [
    {
     "data": {
      "image/png": "[encoded data removed]",
      "text/plain": [
       "<Figure size 640x480 with 1 Axes>"
      ]
     },
     "metadata": {},
     "output_type": "display_data"
    }
   ],
   "source": [
    "# plot binomial distribution\n",
    "fig, ax = plt.subplots(1, 1)\n",
    "x = np.arange(0, 3)\n",
    "ax.plot(x, binom.pmf(x, 3, 0.3), 'bo')\n",
    "ax.vlines(x, 0, binom.pmf(x, 3, 0.3), colors='b', lw=5, alpha=0.5)\n",
    "plt.show()"
   ]
  },
  {
   "cell_type": "code",
   "execution_count": 130,
   "metadata": {},
   "outputs": [
    {
     "name": "stdout",
     "output_type": "stream",
     "text": [
      "The sample mean of 1,000 fair coin flips is 0.49\n",
      "The sample mean of 2,000 fair coin flips is 0.491\n"
     ]
    }
   ],
   "source": [
    "# Sample mean from a generated sample of 1,000 fair coin flips\n",
    "sample_mean_1000_flips = describe(binom.rvs(n=1, p=0.5, size=1000)).mean\n",
    "print(f'The sample mean of 1,000 fair coin flips is {sample_mean_1000_flips}')\n",
    "\n",
    "# Sample mean from a generated sample of 2,000 fair coin flips\n",
    "sample_mean_2000_flips = describe(binom.rvs(n=1, p=0.5, size=2000)).mean\n",
    "print(f'The sample mean of 2,000 fair coin flips is {sample_mean_2000_flips}')"
   ]
  },
  {
   "cell_type": "code",
   "execution_count": 131,
   "metadata": {},
   "outputs": [
    {
     "name": "stdout",
     "output_type": "stream",
     "text": [
      "The sample mean is 2.94 and the sample variance is 2.009404702351176\n",
      "The sample mean is 3.0 and the sample variance is 2.0999999999999996\n"
     ]
    }
   ],
   "source": [
    "sample = binom.rvs(n=10, p=0.3, size=2000)\n",
    "\n",
    "# Calculate the sample mean and variance from the sample variable\n",
    "sample_describe = describe(sample)\n",
    "\n",
    "# Calculate the sample mean using the values of n and p\n",
    "mean = 10*0.3\n",
    "\n",
    "# Calculate the sample variance using the value of 1-p\n",
    "variance = mean*(1-0.3)\n",
    "\n",
    "# Calculate the sample mean and variance for 10 coin flips with p=0.3\n",
    "binom_stats = binom.stats(n=10, p=0.3)\n",
    "\n",
    "print(f'The sample mean is {sample_describe.mean} and the sample variance is {sample_describe.variance}')\n",
    "print(f'The sample mean is {binom_stats[0]} and the sample variance is {binom_stats[1]}')"
   ]
  },
  {
   "cell_type": "code",
   "execution_count": 132,
   "metadata": {},
   "outputs": [
    {
     "name": "stdout",
     "output_type": "stream",
     "text": [
      "Mean 2.4892000000000003\n",
      "Variance 1.9189777777777781\n",
      "The mean is 2.5 and the variance is 1.875\n"
     ]
    }
   ],
   "source": [
    "averages = []\n",
    "variances = []\n",
    "\n",
    "for i in range(0, 1500):\n",
    "\t# 10 draws of 10 coin flips with 25% probability of heads\n",
    "    sample = binom.rvs(n=10, p=0.25, size=10)\n",
    "\t# Mean and variance of the values in the sample variable\n",
    "    averages.append(describe(sample).mean)\n",
    "    variances.append(describe(sample).variance)\n",
    "  \n",
    "# Calculate the mean of the averages variable\n",
    "print(\"Mean {}\".format(describe(averages).mean))\n",
    "\n",
    "# Calculate the mean of the variances variable\n",
    "print(\"Variance {}\".format(describe(variances).mean))\n",
    "\n",
    "# Calculate the mean and variance\n",
    "print(f'The mean is {binom.stats(n=10, p=0.25)[0]} and the variance is {binom.stats(n=10, p=0.25)[1]}')"
   ]
  },
  {
   "cell_type": "markdown",
   "metadata": {},
   "source": [
    "###  Poison Distribtuion "
   ]
  },
  {
   "cell_type": "markdown",
   "metadata": {},
   "source": [
    "The Poisson distribution is a discrete distribution that describes the probability of a certain number of events occurring in a fixed interval of time or space. The Poisson distribution is parameterized by one value, $\\lambda$. $\\lambda$ is the average number of events that occur in the interval. The Poisson distribution is defined by the following formula:\n",
    "\n",
    "$$P(X=k) = \\frac{\\lambda^ke^{-\\lambda}}{k!}$$\n",
    "\n",
    "where k is the number of events that occur in the interval."
   ]
  },
  {
   "cell_type": "code",
   "execution_count": 133,
   "metadata": {},
   "outputs": [
    {
     "name": "stdout",
     "output_type": "stream",
     "text": [
      "Amir responds to 5 leads if he responds to 4 leads on average: 0.1562934518505317\n",
      "Amir's coworker responds to 5 leads if he responds to 5.5 leads on average: 0.17140068409793663\n",
      "Amir's coworker responds to 2 leads if he responds to 4 leads on average: 0.23810330555354436\n",
      "Amir's coworker responds to 10 leads if he responds to 4 leads on average: 0.0028397661205137315\n"
     ]
    }
   ],
   "source": [
    "# Probability of 5 responses\n",
    "prob_5 = poisson.pmf(5, 4)\n",
    "print(f'Amir responds to 5 leads if he responds to 4 leads on average: {prob_5}')\n",
    "\n",
    "# Probability of 5 responses\n",
    "prob_coworker = poisson.pmf(5, 5.5)\n",
    "print(f\"Amir's coworker responds to 5 leads if he responds to 5.5 leads on average: {prob_coworker}\")\n",
    "\n",
    "# Probability of 2 or fewer responses\n",
    "prob_2_or_less = poisson.cdf(2, 4)\n",
    "print(f\"Amir's coworker responds to 2 leads if he responds to 4 leads on average: {prob_2_or_less}\")\n",
    "\n",
    "# Probability of 10 or fewer responses\n",
    "prob_10_or_more = 1 -  poisson.cdf(10, 4)\n",
    "print(f\"Amir's coworker responds to 10 leads if he responds to 4 leads on average: {prob_10_or_more}\")"
   ]
  },
  {
   "cell_type": "markdown",
   "metadata": {},
   "source": [
    "**ATM Example** </br></br>\n",
    "\n",
    "If you know how many specific events occurred per unit of measure, you can assume that the distribution of the random variable follows a Poisson distribution to study the phenomenon.\n",
    "\n",
    "Consider an ATM (automatic teller machine) at a very busy shopping mall. The bank wants to avoid making customers wait in line to use the ATM. It has been observed that the average number of customers making withdrawals between 10:00 a.m. and 10:05 a.m. on any given day is 1.\n",
    "\n",
    "As a data analyst at the bank, you are asked what the probability is that the bank will need to install another ATM to handle the load.\n",
    "\n",
    "To answer the question, you need to calculate the probability of getting more than one customer during that time period."
   ]
  },
  {
   "cell_type": "code",
   "execution_count": 134,
   "metadata": {},
   "outputs": [
    {
     "name": "stdout",
     "output_type": "stream",
     "text": [
      "The probability of more than 1 customer is 0.2642411176571153\n",
      "The probability of less than 3 customer is 0.9810118431238462\n",
      "The probability of more than 1 customer and less than 3 customer is 0.24525296078096148\n",
      "The probability of more than 1 customer is 0.2642411176571153\n"
     ]
    }
   ],
   "source": [
    "# Probability of more than 1 customer\n",
    "probability = poisson.sf(k=1, mu=1)\n",
    "\n",
    "# Print the result\n",
    "print(f'The probability of more than 1 customer is {probability}')\n",
    "\n",
    "# Probability of less than 3 customer\n",
    "probability = poisson.cdf(k=3, mu=1)\n",
    "print(f'The probability of less than 3 customer is {probability}')\n",
    "\n",
    "# Probability of more than 1 customer and less than 3 customer\n",
    "probability = poisson.cdf(k=3, mu=1) - poisson.cdf(k=1, mu=1)\n",
    "print(f'The probability of more than 1 customer and less than 3 customer is {probability}')\n",
    "\n",
    "# Probability of more than 1 customer\n",
    "probability = poisson.sf(k=1, mu=1)\n",
    "print(f'The probability of more than 1 customer is {probability}')"
   ]
  },
  {
   "cell_type": "markdown",
   "metadata": {},
   "source": [
    "**Highway accidents Example** </br></br>\n",
    "\n",
    "On a certain turn on a very busy highway, there are 2 accidents per day. Let's assume the number of accidents per day can be modeled as a Poisson random variable and is distributed as in the following plot: </br></br>\n",
    "![](https://assets.datacamp.com/production/repositories/3819/datasets/1a4cb33d15fdc97987a153fbaae96485107ae00b/accidents.png)"
   ]
  },
  {
   "cell_type": "code",
   "execution_count": 135,
   "metadata": {},
   "outputs": [
    {
     "name": "stdout",
     "output_type": "stream",
     "text": [
      "The probability of 5 accidents any day is 0.03608940886309672\n",
      "The probability of having 4 or 5 accidents on any day is 0.12631293102083851\n",
      "The probability of more than 3 accidents any day is 0.14287653950145296\n",
      "The number of accidents with 0.75 probability is 3.0\n"
     ]
    }
   ],
   "source": [
    "# Probability of 5 accidents any day\n",
    "P_five_accidents = poisson.pmf(k=5, mu=2)\n",
    "print(f'The probability of 5 accidents any day is {P_five_accidents}')\n",
    "\n",
    "# Probability of having 4 or 5 accidents on any day\n",
    "P_less_than_6 = poisson.cdf(k=5, mu=2)\n",
    "P_less_than_4 = poisson.cdf(k=3, mu=2)\n",
    "P_4_or_5 = P_less_than_6 - P_less_than_4\n",
    "print(f'The probability of having 4 or 5 accidents on any day is {P_4_or_5}')\n",
    "\n",
    "# Probability of more than 3 accidents any day\n",
    "P_more_than_3 = poisson.sf(k=3, mu=2)\n",
    "print(f'The probability of more than 3 accidents any day is {P_more_than_3}')\n",
    "\n",
    "# Number of accidents with 0.75 probability\n",
    "accidents = poisson.ppf(q=0.75, mu=2)\n",
    "print(f'The number of accidents with 0.75 probability is {accidents}')"
   ]
  },
  {
   "cell_type": "code",
   "execution_count": 136,
   "metadata": {},
   "outputs": [
    {
     "data": {
      "image/png": "[encoded data removed]",
      "text/plain": [
       "<Figure size 640x480 with 1 Axes>"
      ]
     },
     "metadata": {},
     "output_type": "display_data"
    }
   ],
   "source": [
    "# Create the sample\n",
    "sample = poisson.rvs(mu=2, size=10000, random_state=13)\n",
    "\n",
    "# Plot the sample\n",
    "sns.histplot(sample, kde=False)\n",
    "plt.show()"
   ]
  },
  {
   "cell_type": "markdown",
   "metadata": {},
   "source": [
    "###  Geometric Distribution "
   ]
  },
  {
   "cell_type": "markdown",
   "metadata": {},
   "source": [
    "Geomtric Distribution - The geometric distribution is a discrete distribution that describes the probability of a certain number of trials until the first success in a sequence of independent experiments. The geometric distribution is parameterized by one value, p. p is the probability of success in each trial. The geometric distribution is defined by the following formula:\n",
    "\n",
    "$$P(X=k) = (1-p)^{k-1}p$$\n",
    "\n",
    "where k is the number of trials until the first success."
   ]
  },
  {
   "cell_type": "markdown",
   "metadata": {},
   "source": [
    "**Catching salmon example** </br></br>\n",
    "\n",
    "Every fall the salmon run occurs -- this is the time when salmon swim back upriver from the ocean to spawn. While swimming back to the upper river (usually to the place where they were spawned), the fish may encounter grizzly bears. Some of these bears can eat 18 salmon in 3 hours, and they have a 0.0333 probability of success in their attempts to catch a fish.\n",
    "\n",
    "We can model a grizzly bear catching salmon with a geometric distribution."
   ]
  },
  {
   "cell_type": "code",
   "execution_count": 137,
   "metadata": {},
   "outputs": [
    {
     "name": "stdout",
     "output_type": "stream",
     "text": [
      "The probability of getting a salmon on the third attempt is 0.031119146037000004\n",
      "\n",
      "The probability of getting a salmon in less than 5 attempts is 0.1266931345109679\n",
      "\n",
      "The probability of getting a salmon in less than 21 attempts is 0.4920343187252892\n",
      "\n",
      "The attempts for 0.9 probability of catching a salmon is 68.0\n",
      "\n"
     ]
    }
   ],
   "source": [
    "# Getting a salmon on the third attempt\n",
    "probability = geom.pmf(k=3, p=0.0333)\n",
    "print(f'The probability of getting a salmon on the third attempt is {probability}\\n')\n",
    "\n",
    "# Probability of getting a salmon in less than 5 attempts\n",
    "probability = geom.cdf(k=4, p=0.0333)\n",
    "print(f'The probability of getting a salmon in less than 5 attempts is {probability}\\n')\n",
    "\n",
    "# Probability of getting a salmon in less than 21 attempts\n",
    "probability = geom.cdf(k=20, p=0.0333)\n",
    "print(f'The probability of getting a salmon in less than 21 attempts is {probability}\\n')\n",
    "\n",
    "# Attempts for 0.9 probability of catching a salmon\n",
    "attempts = geom.ppf(q=0.9, p=0.0333)\n",
    "print(f'The attempts for 0.9 probability of catching a salmon is {attempts}\\n')"
   ]
  },
  {
   "cell_type": "markdown",
   "metadata": {},
   "source": [
    "**Free throws example** </br></br>\n",
    "Suppose you know that a basketball player has a 0.3 probability of scoring a free throw. What is the probability of them missing with the first throw and scoring with the second?"
   ]
  },
  {
   "cell_type": "code",
   "execution_count": 138,
   "metadata": {},
   "outputs": [
    {
     "name": "stdout",
     "output_type": "stream",
     "text": [
      "The probability of missing first and scoring on second throw is 0.21\n",
      "\n"
     ]
    },
    {
     "data": {
      "image/png": "[encoded data removed]",
      "text/plain": [
       "<Figure size 640x480 with 1 Axes>"
      ]
     },
     "metadata": {},
     "output_type": "display_data"
    }
   ],
   "source": [
    "# Probability of missing first and scoring on second throw\n",
    "probability = geom.pmf(k=2, p=0.3)\n",
    "print(f'The probability of missing first and scoring on second throw is {probability}\\n')\n",
    "\n",
    "# Create the sample\n",
    "sample = geom.rvs(p=0.3, size=10000, random_state=13)\n",
    "\n",
    "# Plot the sample\n",
    "sns.histplot(sample, bins = np.linspace(0,20,21), kde=False)\n",
    "plt.show()"
   ]
  },
  {
   "cell_type": "markdown",
   "metadata": {},
   "source": [
    "## <font color = \"#6C98C6\"> Continous Distributions </font>"
   ]
  },
  {
   "cell_type": "markdown",
   "metadata": {},
   "source": [
    "\n",
    "Continous distributions are distributions where the possible values are not countable. The most common continous distributions are the uniform distribution, the normal distribution, and the exponential distribution."
   ]
  },
  {
   "cell_type": "code",
   "execution_count": 139,
   "metadata": {},
   "outputs": [
    {
     "name": "stdout",
     "output_type": "stream",
     "text": [
      "Probability of waiting less than 5 minutes is 0.10204081632653061 \n",
      "\n",
      "Probability of waiting more than 5 minutes is 0.8979591836734694 \n",
      "\n",
      "Probability of waiting between 10 to 20 minutes is 0.20408163265306123 \n",
      "\n"
     ]
    }
   ],
   "source": [
    "# Unifrom Continous Distribution\n",
    "\n",
    "# Min and max wait times for back-up that happens every 30 mins. Max time has been set to be random between 30 and 60 mins\n",
    "min_time = 0\n",
    "max_time = np.random.randint(30, 60)\n",
    "\n",
    "# Calculate probability of waiting less than 5 mins\n",
    "prob_less_than_5 = uniform.cdf(5, min_time, max_time)\n",
    "print(f'Probability of waiting less than 5 minutes is {prob_less_than_5}','\\n')\n",
    "\n",
    "# Calculate probability of waiting more than 5 mins\n",
    "prob_more_than_5 = 1 - uniform.cdf(5, min_time, max_time)\n",
    "prob_10_or_more = uniform.sf(5, min_time, max_time)\n",
    "print(f'Probability of waiting more than 5 minutes is {prob_more_than_5}','\\n')\n",
    "\n",
    "# Calculate probability of waiting 10-20 mins\n",
    "prob_between_10_and_20 = uniform.cdf(20, min_time, max_time) - uniform.cdf(10, min_time, max_time)\n",
    "print(f'Probability of waiting between 10 to 20 minutes is {prob_between_10_and_20}','\\n')"
   ]
  },
  {
   "cell_type": "code",
   "execution_count": 140,
   "metadata": {},
   "outputs": [
    {
     "data": {
      "image/png": "[encoded data removed]",
      "text/plain": [
       "<Figure size 640x480 with 1 Axes>"
      ]
     },
     "metadata": {},
     "output_type": "display_data"
    }
   ],
   "source": [
    "# Set random seed to 334\n",
    "np.random.seed(334)\n",
    "\n",
    "wait_time = uniform.rvs(0,30,size=100)\n",
    "plt.hist(wait_time)\n",
    "plt.show()"
   ]
  },
  {
   "cell_type": "markdown",
   "metadata": {},
   "source": [
    "###  Histograms "
   ]
  },
  {
   "cell_type": "markdown",
   "metadata": {},
   "source": [
    "\n",
    "Histograms are a way of visualizing the distribution of a set of data. A histogram is a bar graph where the height of each bar represents the frequency of the data in that range. The width of each bar represents the range of the data in that bar. The x-axis of a histogram represents the range of the data, and the y-axis represents the frequency of the data in that range."
   ]
  },
  {
   "cell_type": "code",
   "execution_count": 141,
   "metadata": {},
   "outputs": [
    {
     "name": "stdout",
     "output_type": "stream",
     "text": [
      "Probability of deal less than 7500 is 0.8943502263331446 \n",
      "\n",
      "Probability of deal greater than 1000 is 0.9772498680518208 \n",
      "\n",
      "Probability of deal between 3000 and 7000 is 0.6826894921370859 \n",
      "\n",
      "2.5% of deals will be less than 1080.072030919891 \n",
      "\n",
      "97.5% of deals will be less than 8919.927969080109 \n",
      "\n"
     ]
    },
    {
     "data": {
      "image/png": "[encoded data removed]",
      "text/plain": [
       "<Figure size 640x480 with 1 Axes>"
      ]
     },
     "metadata": {},
     "output_type": "display_data"
    }
   ],
   "source": [
    "# Probability of deal < 7500\n",
    "prob_less_7500 = norm.cdf(7500, 5000, 2000)\n",
    "print(f'Probability of deal less than 7500 is {prob_less_7500}','\\n')\n",
    "\n",
    "# Probability of deal > 1000\n",
    "prob_over_1000 = 1 - norm.cdf(1000, 5000, 2000)\n",
    "print(f'Probability of deal greater than 1000 is {prob_over_1000}','\\n')\n",
    "\n",
    "# Probability of deal between 3000 and 7000\n",
    "prob_3000_to_7000 = norm.cdf(7000, 5000, 2000) - norm.cdf(3000, 5000, 2000)\n",
    "print(f'Probability of deal between 3000 and 7000 is {prob_3000_to_7000}','\\n')\n",
    "\n",
    "# Calculate amount that 25% of deals will be less than\n",
    "pct_25 = norm.ppf(0.025, 5000, 2000)\n",
    "print(f'2.5% of deals will be less than {pct_25}','\\n')\n",
    "pct_975 = norm.ppf(0.975, 5000, 2000)\n",
    "print(f'97.5% of deals will be less than {pct_975}','\\n')\n",
    "\n",
    "# Histogram of amount with 10 bins and show plot\n",
    "fig, ax = plt.subplots()\n",
    "ax = amir_deals['amount'].hist(bins = 10)\n",
    "ax.axvspan(min(amir_deals['amount']), pct_25, color = 'red', alpha = 0.2, label = '25% of deals')\n",
    "ax.axvspan(pct_975, max(amir_deals['amount']), color = 'red', alpha = 0.2)\n",
    "plt.show()"
   ]
  },
  {
   "cell_type": "markdown",
   "metadata": {},
   "source": [
    "### Normal Distribution "
   ]
  },
  {
   "cell_type": "markdown",
   "metadata": {},
   "source": [
    "The normal distribution is a continous distribution that is defined by a mean and a standard deviation. The normal distribution is defined by the following formula:\n",
    "\n",
    "$$f(x) = \\frac{1}{\\sigma\\sqrt{2\\pi}}e^{-\\frac{(x-\\mu)^2}{2\\sigma^2}}$$\n",
    "\n",
    "where $\\mu$ is the mean of the distribution, $\\sigma$ is the standard deviation of the distribution, and x is the value of the distribution. The normal distribution is also known as the Gaussian distribution. "
   ]
  },
  {
   "cell_type": "code",
   "execution_count": 142,
   "metadata": {},
   "outputs": [
    {
     "data": {
      "image/png": "[encoded data removed]",
      "text/plain": [
       "<Figure size 640x480 with 1 Axes>"
      ]
     },
     "metadata": {},
     "output_type": "display_data"
    }
   ],
   "source": [
    "# Calculate new average amount\n",
    "new_mean = 5000 * 1.2\n",
    "\n",
    "# Calculate new standard deviation\n",
    "new_sd = 2000 * 1.3\n",
    "\n",
    "# Simulate 36 new sales\n",
    "new_sales = norm.rvs(new_mean, new_sd, size = 36)\n",
    "\n",
    "# Create histogram and show\n",
    "plt.hist(new_sales)\n",
    "plt.show()"
   ]
  },
  {
   "cell_type": "code",
   "execution_count": 143,
   "metadata": {},
   "outputs": [
    {
     "name": "stdout",
     "output_type": "stream",
     "text": [
      "32.0\n",
      "List of means: \n",
      "[31.35, 45.05, 33.55, 38.15, 50.85, 31.85, 34.65, 36.25, 38.9, 44.05, 35.45, 37.6, 37.95, 28.85, 33.3, 31.65, 45.5, 43.2, 24.4, 41.05, 37.2, 39.3, 29.45, 33.55, 45.3, 45.1, 30.95, 36.25, 37.65, 42.55, 34.55, 41.1, 36.9, 42.45, 38.45, 45.9, 42.7, 38.4, 32.55, 30.25, 38.0, 38.75, 49.3, 39.55, 49.05, 42.05, 41.0, 40.6, 58.25, 34.55, 51.2, 34.15, 36.95, 42.45, 41.85, 33.2, 36.15, 37.55, 34.2, 29.75, 42.35, 43.75, 29.0, 32.05, 31.65, 44.6, 30.85, 29.6, 37.7, 33.1, 36.35, 40.65, 45.7, 33.8, 40.1, 39.9, 33.5, 32.65, 32.85, 42.85, 35.4, 31.7, 32.0, 33.85, 36.6, 44.35, 39.9, 37.0, 37.3, 42.5, 38.35, 42.8, 44.55, 30.3, 50.45, 42.35, 40.65, 29.85, 39.3, 33.1] \n",
      "\n"
     ]
    },
    {
     "data": {
      "image/png": "[encoded data removed]",
      "text/plain": [
       "<Figure size 640x480 with 1 Axes>"
      ]
     },
     "metadata": {},
     "output_type": "display_data"
    }
   ],
   "source": [
    "# Set seed to 104\n",
    "np.random.seed(104)\n",
    "\n",
    "# Sample 20 num_users with replacement from amir_deals\n",
    "samp_20 = amir_deals['num_users'].sample(20, replace = True)\n",
    "\n",
    "# Take mean of samp_20\n",
    "print(np.mean(samp_20))\n",
    "\n",
    "sample_means = []\n",
    "# Loop 100 times\n",
    "for i in range(100):\n",
    "  # Take sample of 20 num_users\n",
    "  samp_20 = amir_deals['num_users'].sample(20, replace=True)\n",
    "  # Calculate mean of samp_20\n",
    "  samp_20_mean = np.mean(samp_20)\n",
    "  # Append samp_20_mean to sample_means\n",
    "  sample_means.append(samp_20_mean)\n",
    "print(f'List of means: \\n{sample_means}','\\n')\n",
    "\n",
    "# Convert to Series and plot histogram\n",
    "sample_means_series = pd.Series(sample_means)\n",
    "sample_means_series.hist()\n",
    "# Show plot\n",
    "plt.show()"
   ]
  },
  {
   "cell_type": "code",
   "execution_count": 144,
   "metadata": {},
   "outputs": [
    {
     "name": "stdout",
     "output_type": "stream",
     "text": [
      "38.821666666666665\n",
      "37.651685393258425\n"
     ]
    }
   ],
   "source": [
    "# Set seed to 321\n",
    "np.random.seed(321)\n",
    "\n",
    "sample_means = []\n",
    "# Loop 30 times to take 30 means\n",
    "for i in range(30):\n",
    "#   Take sample of size 20 from num_users col of all_deals with replacement\n",
    "  cur_sample = amir_deals['num_users'].sample(20, replace=True)\n",
    "  # Take mean of cur_sample\n",
    "  cur_mean = np.mean(cur_sample)\n",
    "  # Append cur_mean to sample_means\n",
    "  sample_means.append(cur_mean)\n",
    "\n",
    "# Print mean of sample_means\n",
    "print(np.mean(sample_means))\n",
    "\n",
    "# Print mean of num_users in amir_deals\n",
    "print(np.mean(amir_deals['num_users']))\n",
    "\n",
    "# Based on the calculation we can see how the central limit theorem works"
   ]
  },
  {
   "cell_type": "code",
   "execution_count": 145,
   "metadata": {},
   "outputs": [
    {
     "data": {
      "image/png": "[encoded data removed]",
      "text/plain": [
       "<Figure size 640x480 with 1 Axes>"
      ]
     },
     "metadata": {},
     "output_type": "display_data"
    }
   ],
   "source": [
    "# Create the sample using norm.rvs()\n",
    "sample = norm.rvs(loc=3.15, scale=1.5, size=10000, random_state=13)\n",
    "\n",
    "# Plot the sample\n",
    "sns.histplot(sample, kde=True)\n",
    "plt.show()"
   ]
  },
  {
   "cell_type": "markdown",
   "metadata": {},
   "source": [
    "**Restaurant spending example** </br></br>\n",
    "The data shows that the spending is approximately normally distributed, with a mean of 3.15 and a standard deviation of 1.5 per customer, as pictured in the plot. </br></br>\n",
    "![](https://assets.datacamp.com/production/repositories/3819/datasets/a12cc9f77ceec6bc22691386c4470a11433b16c6/ch3l2ex2.png) </br></br>\n",
    "Let's answer some questions about the data."
   ]
  },
  {
   "cell_type": "code",
   "execution_count": 146,
   "metadata": {},
   "outputs": [
    {
     "name": "stdout",
     "output_type": "stream",
     "text": [
      "Probability of spending $3 or less is 0.46017216272297107 \n",
      "\n",
      "Probability of spending more than $5 is 0.10872571321259111 \n",
      "\n",
      "Probability of spending more than $2.15 and $4.15 or less is 0.4950149249061543 \n",
      "\n",
      "Probability of spending $2.15 or less or more than $4.15 is 0.5049850750938457 \n",
      "\n"
     ]
    }
   ],
   "source": [
    "# Probability of spending $3 or less\n",
    "spending = norm.cdf(3, loc=3.15, scale=1.5)\n",
    "print(f'Probability of spending $3 or less is {spending}','\\n')\n",
    "\n",
    "# Probability of spending more than $5\n",
    "spending = norm.sf(5, loc=3.15, scale=1.5)\n",
    "print(f'Probability of spending more than $5 is {spending}','\\n')\n",
    "\n",
    "# Probability of spending more than $2.15 and $4.15 or less\n",
    "spending_4 = norm.cdf(4.15, loc=3.15, scale=1.5)\n",
    "spending_2 = norm.cdf(2.15, loc=3.15, scale=1.5)\n",
    "spending = spending_4 - spending_2\n",
    "print(f'Probability of spending more than $2.15 and $4.15 or less is {spending}','\\n')\n",
    "\n",
    "# What is the probability that a customer will spend $2.15 or less or more than $4.15?\n",
    "spending_4 = norm.sf(4.15, loc=3.15, scale=1.5)\n",
    "spending_2 = norm.cdf(2.15, loc=3.15, scale=1.5)\n",
    "spending = spending_4 + spending_2\n",
    "print(f'Probability of spending $2.15 or less or more than $4.15 is {spending}','\\n')"
   ]
  },
  {
   "cell_type": "markdown",
   "metadata": {},
   "source": [
    "**Smartphone battery example** </br></br>\n",
    "\n",
    "One of the most important things to consider when buying a smartphone is how long the battery will last.\n",
    "\n",
    "Suppose the period of time between charges can be modeled with a normal distribution with a **mean of 5 hours** and a **standard deviation of 1.5 hours.**\n",
    "\n",
    "A friend wants to buy a smartphone and is asking you the following questions."
   ]
  },
  {
   "cell_type": "code",
   "execution_count": 147,
   "metadata": {},
   "outputs": [
    {
     "data": {
      "image/png": "[encoded data removed]",
      "text/plain": [
       "<Figure size 640x480 with 1 Axes>"
      ]
     },
     "metadata": {},
     "output_type": "display_data"
    }
   ],
   "source": [
    "smartphone = norm.rvs(loc=5, scale=1.5, size=10000, random_state=13)\n",
    "# Plot the sample\n",
    "sns.histplot(smartphone, kde=True)\n",
    "plt.show()"
   ]
  },
  {
   "cell_type": "code",
   "execution_count": 148,
   "metadata": {},
   "outputs": [
    {
     "name": "stdout",
     "output_type": "stream",
     "text": [
      "Probability that battery will last less than 3 hours is 0.09121121972586788 \n",
      "\n",
      "Probability that battery will last more than 3 hours is 0.9087887802741321 \n",
      "\n",
      "Probability that battery will last between 5 and 7 hours is 0.4087887802741321 \n",
      "\n"
     ]
    }
   ],
   "source": [
    "# Probability that battery will last less than 3 hours\n",
    "less_than_3h = norm.cdf(3, loc=5, scale=1.5)\n",
    "print(f'Probability that battery will last less than 3 hours is {less_than_3h}','\\n')\n",
    "\n",
    "# Probability that battery will last more than 3 hours\n",
    "more_than_3h = norm.sf(3, loc=5, scale=1.5)\n",
    "print(f'Probability that battery will last more than 3 hours is {more_than_3h}','\\n')\n",
    "\n",
    "# Probability that battery will last between 5 and 7 hours\n",
    "between_5_and_7 = norm.cdf(7, loc=5, scale=1.5) - norm.cdf(5, loc=5, scale=1.5)\n",
    "print(f'Probability that battery will last between 5 and 7 hours is {between_5_and_7}','\\n')"
   ]
  },
  {
   "cell_type": "markdown",
   "metadata": {},
   "source": [
    "**Adults' heights example** </br></br>\n",
    "The heights of adults aged between 18 and 35 years are normally distributed. For males, the <font color = 'dodgerblue'>**mean height is 70 inches with a standard deviation of 4** </font>. Adult females have a <font color = 'indianred'>**mean height of 65 inches with a standard deviation of 3.5**.</font> You can see how the heights are distributed in this plot: </br></br>\n",
    "![](https://assets.datacamp.com/production/repositories/3819/datasets/f87c00739d12771e61e77a2cc97449c98f106afd/male-females.png) </br></br>\n"
   ]
  },
  {
   "cell_type": "code",
   "execution_count": 149,
   "metadata": {},
   "outputs": [
    {
     "name": "stdout",
     "output_type": "stream",
     "text": [
      "One standard deviation interval would be (61.51939740876586, 68.48060259123413) \n",
      "\n",
      "Tallest male is 79.30539149616337 inches tall \n",
      "\n",
      "Probability for men to be taller than 73 inches is 0.2266273523768682\n",
      "Probability for women to be taller than 73 inches is 0.011135489479616392\n",
      "Probability for men to be shorter than 61 inches is 0.012224472655044696\n",
      "Probability for women to be shorter than 61 inches is 0.12654895447355774\n"
     ]
    }
   ],
   "source": [
    "# Values one standard deviation from mean height for females\n",
    "interval = norm.interval(0.68, loc=65, scale=3.5)\n",
    "print(f'One standard deviation interval would be {interval}','\\n')\n",
    "\n",
    "# Value where the tallest males fall with 0.01 probability\n",
    "tallest = norm.ppf(0.99, loc=70, scale=4)\n",
    "print(f'Tallest male is {tallest} inches tall','\\n')\n",
    "\n",
    "# Probability of being taller than 73 inches for males and females\n",
    "P_taller_male = norm.sf(73, loc=70, scale=4)\n",
    "P_taller_female = norm.sf(73, loc=65, scale=3.5)\n",
    "print(f'Probability for men to be taller than 73 inches is {P_taller_male}')\n",
    "print(f'Probability for women to be taller than 73 inches is {P_taller_female}')\n",
    "\n",
    "# Probability of being shorter than 61 inches for males and females\n",
    "P_shorter_male = norm.cdf(61, loc=70, scale=4)\n",
    "P_shorter_female = norm.cdf(61, loc=65, scale=3.5)\n",
    "print(f'Probability for men to be shorter than 61 inches is {P_shorter_male}')\n",
    "print(f'Probability for women to be shorter than 61 inches is {P_shorter_female}')"
   ]
  },
  {
   "cell_type": "markdown",
   "metadata": {},
   "source": [
    "###  Exponential Distribution "
   ]
  },
  {
   "cell_type": "markdown",
   "metadata": {},
   "source": [
    "\n",
    "The exponential distribution is a continous distribution that describes the probability of a certain amount of time passing before an event occurs. The exponential distribution is parameterized by one value, $\\lambda$. $\\lambda$ is the average rate of the event. The exponential distribution is defined by the following formula:\n",
    "\n",
    "$$f(x) = \\lambda e^{-\\lambda x}$$\n",
    "\n",
    "where x is the amount of time that has passed."
   ]
  },
  {
   "cell_type": "code",
   "execution_count": 150,
   "metadata": {},
   "outputs": [
    {
     "name": "stdout",
     "output_type": "stream",
     "text": [
      "The probability that Amir takes less than an hour is: 0.3296799539643607\n",
      "The probability that Amir takes more than 4 hour is: 0.20189651799465536\n",
      "The probability that Amir takes more than 3 to 4 hour is: 0.09929769391754684\n"
     ]
    }
   ],
   "source": [
    "# Print probability response takes < 1 hour\n",
    "print(f\"The probability that Amir takes less than an hour is: {expon.cdf(1, scale=2.5)}\")\n",
    "\n",
    "# Print probability response takes > 4 hours\n",
    "print(f\"The probability that Amir takes more than 4 hour is: {1 - expon.cdf(4, scale=2.5)}\")\n",
    "\n",
    "# Print probability response takes 3-4 hours\n",
    "print(f\"The probability that Amir takes more than 3 to 4 hour is: {expon.cdf(4, scale = 2.5) - expon.cdf(3, scale = 2.5)}\")"
   ]
  },
  {
   "cell_type": "markdown",
   "metadata": {},
   "source": [
    "## Correlation "
   ]
  },
  {
   "cell_type": "markdown",
   "metadata": {},
   "source": [
    "Correlation is a measure of how closely two variables are related. Correlation is a value between -1 and 1. A correlation of 1 means that the two variables are perfectly positively correlated. A correlation of -1 means that the two variables are perfectly negatively correlated. A correlation of 0 means that the two variables are not correlated at all. Correlation is a useful tool for understanding the relationship between two variables. Correlation is not causation. Just because two variables are correlated does not mean that one causes the other."
   ]
  },
  {
   "cell_type": "code",
   "execution_count": 151,
   "metadata": {},
   "outputs": [
    {
     "data": {
      "image/png": "[encoded data removed]",
      "text/plain": [
       "<Figure size 640x480 with 1 Axes>"
      ]
     },
     "metadata": {},
     "output_type": "display_data"
    },
    {
     "name": "stdout",
     "output_type": "stream",
     "text": [
      "0.7802249053272062\n"
     ]
    }
   ],
   "source": [
    "# Create a scatterplot of happiness_score vs. life_exp and show\n",
    "sns.scatterplot(x='life_exp', y='happiness_score', data=world_happiness)\n",
    "plt.show()\n",
    "\n",
    "# Correlation between life_exp and happiness_score\n",
    "cor = world_happiness['life_exp'].corr(world_happiness['happiness_score'])\n",
    "\n",
    "print(cor)"
   ]
  },
  {
   "cell_type": "code",
   "execution_count": 152,
   "metadata": {},
   "outputs": [
    {
     "data": {
      "image/png": "[encoded data removed]",
      "text/plain": [
       "<Figure size 640x480 with 1 Axes>"
      ]
     },
     "metadata": {},
     "output_type": "display_data"
    },
    {
     "name": "stdout",
     "output_type": "stream",
     "text": [
      "0.7019547642148012\n"
     ]
    }
   ],
   "source": [
    "sns.scatterplot(y='life_exp',x='gdp_per_cap',data=world_happiness)\n",
    "plt.show()\n",
    "cor = world_happiness['gdp_per_cap'].corr(world_happiness['life_exp'])\n",
    "print(cor)"
   ]
  },
  {
   "cell_type": "code",
   "execution_count": 153,
   "metadata": {},
   "outputs": [
    {
     "data": {
      "image/png": "[encoded data removed]",
      "text/plain": [
       "<Figure size 640x480 with 1 Axes>"
      ]
     },
     "metadata": {},
     "output_type": "display_data"
    },
    {
     "name": "stdout",
     "output_type": "stream",
     "text": [
      "0.8043146004918288\n",
      "Index(['country', 'social_support', 'freedom', 'corruption', 'generosity',\n",
      "       'gdp_per_cap', 'life_exp', 'happiness_score', 'log_gdp_per_cap'],\n",
      "      dtype='object')\n"
     ]
    }
   ],
   "source": [
    "# When variables have skewed distributions, they often require a transformation in order to form a linear relationship with another variable\n",
    "# so that correlation can be computed.\n",
    "\n",
    "# Create log_gdp_per_cap column\n",
    "world_happiness['log_gdp_per_cap'] = np.log(world_happiness['gdp_per_cap'])\n",
    "# Scatterplot of happiness_score vs. gdp_per_cap\n",
    "sns.scatterplot(x='log_gdp_per_cap',y='happiness_score',data=world_happiness)\n",
    "plt.show()\n",
    "# Calculate correlation\n",
    "cor = world_happiness['log_gdp_per_cap'].corr(world_happiness['happiness_score'])\n",
    "print(cor)\n",
    "print(world_happiness.columns)"
   ]
  },
  {
   "cell_type": "markdown",
   "metadata": {},
   "source": [
    "## Sample Mean and Population Mean "
   ]
  },
  {
   "cell_type": "code",
   "execution_count": 154,
   "metadata": {},
   "outputs": [
    {
     "name": "stdout",
     "output_type": "stream",
     "text": [
      "Mean of first 10 samples: 0.45454545454545453\n",
      "Mean of first 50 samples: 0.5490196078431373\n",
      "Mean of first 250 samples: 0.504\n"
     ]
    }
   ],
   "source": [
    "# Generate a sample of 250 newborn children\n",
    "sample = binom.rvs(n=1, p=0.505, size=250, random_state=42)\n",
    "\n",
    "print(f'Mean of first 10 samples: {describe(sample[0:11]).mean}') \n",
    "print(f'Mean of first 50 samples: {describe(sample[0:51]).mean}') \n",
    "print(f'Mean of first 250 samples: {describe(sample[0:251]).mean}') "
   ]
  },
  {
   "cell_type": "code",
   "execution_count": 155,
   "metadata": {},
   "outputs": [
    {
     "data": {
      "image/png": "[encoded data removed]",
      "text/plain": [
       "<Figure size 640x480 with 1 Axes>"
      ]
     },
     "metadata": {},
     "output_type": "display_data"
    }
   ],
   "source": [
    "# Calculate sample mean and store it on averages array\n",
    "averages = []\n",
    "for i in range(2, 251):\n",
    "    averages.append(describe(sample[0:i]).mean)\n",
    "\n",
    "# Add population mean line and sample mean plot\n",
    "plt.axhline(binom.mean(n=1, p=0.505), color='red')\n",
    "plt.plot(averages, '-')\n",
    "\n",
    "# Add legend\n",
    "plt.legend((\"Population mean\",\"Sample mean\"), loc='upper right')\n",
    "plt.show()"
   ]
  },
  {
   "cell_type": "markdown",
   "metadata": {},
   "source": [
    "We can see that as samples increase the sample mean gets closer to the population mean. This is because the sample mean is the average of the sample, and the population mean is the average of the population. As the sample size increases, the sample mean gets closer to the population mean. THis is also known as the **Law of Large Numbers.**"
   ]
  },
  {
   "cell_type": "code",
   "execution_count": 156,
   "metadata": {},
   "outputs": [
    {
     "data": {
      "image/png": "[encoded data removed]",
      "text/plain": [
       "<Figure size 640x480 with 1 Axes>"
      ]
     },
     "metadata": {},
     "output_type": "display_data"
    }
   ],
   "source": [
    "population = binom.rvs(n=1, p=0.505, size=1000, random_state=42)\n",
    "# Create list for sample means\n",
    "sample_means = []\n",
    "for _ in range(1500):\n",
    "\t# Take 20 values from the population\n",
    "    sample = np.random.choice(population, 20)\n",
    "    # Calculate the sample mean\n",
    "    sample_means.append(describe(sample).mean)\n",
    "\n",
    "# Plot the histogram\n",
    "plt.hist(sample_means)\n",
    "plt.xlabel(\"Sample mean values\")\n",
    "plt.ylabel(\"Frequency\")\n",
    "plt.show()"
   ]
  },
  {
   "cell_type": "markdown",
   "metadata": {},
   "source": [
    "**Sample means follow a normal distribution** </br></br>\n",
    "In the previous exercise, we generated a population that followed a binomial distribution, chose 20 random samples from the population, and calculated the sample mean. Now we're going to test some other probability distributions to see the shape of the sample means."
   ]
  },
  {
   "cell_type": "code",
   "execution_count": 157,
   "metadata": {},
   "outputs": [
    {
     "data": {
      "image/png": "[encoded data removed]",
      "text/plain": [
       "<Figure size 640x480 with 1 Axes>"
      ]
     },
     "metadata": {},
     "output_type": "display_data"
    }
   ],
   "source": [
    "# Generate the population\n",
    "population = geom.rvs(p=0.5, size=1000)\n",
    "\n",
    "# Create list for sample means\n",
    "sample_means = []\n",
    "for _ in range(3000):\n",
    "\t# Take 20 values from the population\n",
    "    sample = np.random.choice(population, 20)\n",
    "    # Calculate the sample mean\n",
    "    sample_means.append(describe(sample).mean)\n",
    "\n",
    "sns.histplot(sample_means, kde=True)\n",
    "plt.show()"
   ]
  },
  {
   "cell_type": "code",
   "execution_count": 158,
   "metadata": {},
   "outputs": [
    {
     "data": {
      "image/png": "[encoded data removed]",
      "text/plain": [
       "<Figure size 640x480 with 1 Axes>"
      ]
     },
     "metadata": {},
     "output_type": "display_data"
    }
   ],
   "source": [
    "# Generate the population\n",
    "population = poisson.rvs(mu=2, size=1000)\n",
    "\n",
    "# Create list for sample means\n",
    "sample_means = []\n",
    "for _ in range(1500):\n",
    "\t# Take 20 values from the population\n",
    "    sample = np.random.choice(population, 20)\n",
    "    # Calculate the sample mean\n",
    "    sample_means.append(describe(sample).mean)\n",
    "\n",
    "# Plot the histogram\n",
    "sns.histplot(sample_means, kde=True)\n",
    "plt.show()"
   ]
  }
 ],
 "metadata": {
  "kernelspec": {
   "display_name": "Python 3 (ipykernel)",
   "language": "python",
   "name": "python3"
  },
  "language_info": {
   "codemirror_mode": {
    "name": "ipython",
    "version": 3
   },
   "file_extension": ".py",
   "mimetype": "text/x-python",
   "name": "python",
   "nbconvert_exporter": "python",
   "pygments_lexer": "ipython3",
   "version": "3.10.13"
  }
 },
 "nbformat": 4,
 "nbformat_minor": 2
}
